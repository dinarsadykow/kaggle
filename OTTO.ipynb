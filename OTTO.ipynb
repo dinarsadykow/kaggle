{
  "cells": [
    {
      "cell_type": "markdown",
      "metadata": {
        "id": "view-in-github",
        "colab_type": "text"
      },
      "source": [
        "<a href=\"https://colab.research.google.com/github/dinarsadykow/kaggle/blob/main/OTTO.ipynb\" target=\"_parent\"><img src=\"https://colab.research.google.com/assets/colab-badge.svg\" alt=\"Open In Colab\"/></a>"
      ]
    },
    {
      "cell_type": "markdown",
      "metadata": {
        "id": "99tBbzAt1HNU"
      },
      "source": [
        "# OTTO – Multi-Objective Recommender System\n",
        "https://www.kaggle.com/competitions/otto-recommender-system/data"
      ]
    },
    {
      "cell_type": "code",
      "execution_count": 1,
      "metadata": {
        "id": "XudeYzl5117x",
        "colab": {
          "base_uri": "https://localhost:8080/"
        },
        "outputId": "f2da3bb7-53b7-4b65-a8c7-8411f826e382"
      },
      "outputs": [
        {
          "output_type": "stream",
          "name": "stdout",
          "text": [
            "Downloading otto-recommender-system.zip to /content\n",
            "100% 1.94G/1.94G [00:13<00:00, 81.7MB/s]\n",
            "100% 1.94G/1.94G [00:13<00:00, 150MB/s] \n",
            "Archive:  /content/otto-recommender-system.zip\n",
            "  inflating: sample_submission.csv   \n",
            "  inflating: test.jsonl              \n",
            "  inflating: train.jsonl             \n",
            "Looking in indexes: https://pypi.org/simple, https://us-python.pkg.dev/colab-wheels/public/simple/\n",
            "Collecting pickle5\n",
            "  Downloading pickle5-0.0.12-cp37-cp37m-manylinux_2_5_x86_64.manylinux1_x86_64.whl (256 kB)\n",
            "\u001b[K     |████████████████████████████████| 256 kB 7.0 MB/s \n",
            "\u001b[?25hInstalling collected packages: pickle5\n",
            "Successfully installed pickle5-0.0.12\n",
            "Looking in indexes: https://pypi.org/simple, https://us-python.pkg.dev/colab-wheels/public/simple/\n",
            "Collecting pyspark_dist_explore\n",
            "  Downloading pyspark_dist_explore-0.1.8-py3-none-any.whl (7.2 kB)\n",
            "Requirement already satisfied: scipy in /usr/local/lib/python3.7/dist-packages (from pyspark_dist_explore) (1.7.3)\n",
            "Requirement already satisfied: numpy in /usr/local/lib/python3.7/dist-packages (from pyspark_dist_explore) (1.21.6)\n",
            "Requirement already satisfied: matplotlib in /usr/local/lib/python3.7/dist-packages (from pyspark_dist_explore) (3.2.2)\n",
            "Requirement already satisfied: pandas in /usr/local/lib/python3.7/dist-packages (from pyspark_dist_explore) (1.3.5)\n",
            "Requirement already satisfied: cycler>=0.10 in /usr/local/lib/python3.7/dist-packages (from matplotlib->pyspark_dist_explore) (0.11.0)\n",
            "Requirement already satisfied: python-dateutil>=2.1 in /usr/local/lib/python3.7/dist-packages (from matplotlib->pyspark_dist_explore) (2.8.2)\n",
            "Requirement already satisfied: kiwisolver>=1.0.1 in /usr/local/lib/python3.7/dist-packages (from matplotlib->pyspark_dist_explore) (1.4.4)\n",
            "Requirement already satisfied: pyparsing!=2.0.4,!=2.1.2,!=2.1.6,>=2.0.1 in /usr/local/lib/python3.7/dist-packages (from matplotlib->pyspark_dist_explore) (3.0.9)\n",
            "Requirement already satisfied: typing-extensions in /usr/local/lib/python3.7/dist-packages (from kiwisolver>=1.0.1->matplotlib->pyspark_dist_explore) (4.1.1)\n",
            "Requirement already satisfied: six>=1.5 in /usr/local/lib/python3.7/dist-packages (from python-dateutil>=2.1->matplotlib->pyspark_dist_explore) (1.15.0)\n",
            "Requirement already satisfied: pytz>=2017.3 in /usr/local/lib/python3.7/dist-packages (from pandas->pyspark_dist_explore) (2022.6)\n",
            "Installing collected packages: pyspark-dist-explore\n",
            "Successfully installed pyspark-dist-explore-0.1.8\n"
          ]
        }
      ],
      "source": [
        "# ------------------------------------------------------\n",
        "# Kaggle Download Data\n",
        "\n",
        "import json\n",
        "\n",
        "!mkdir ~/.kaggle\n",
        "!touch ~/.kaggle/kaggle.json\n",
        "\n",
        "# api_token = {\"username\":\"123\",\"key\":\"456\"}\n",
        "api_token = json.load( open('/content/drive/MyDrive/kaggle.json','r') )\n",
        "\n",
        "with open('/root/.kaggle/kaggle.json', 'w') as file:\n",
        "    json.dump(api_token, file)\n",
        "\n",
        "!chmod 600 ~/.kaggle/kaggle.json\n",
        "\n",
        "!kaggle competitions download -c otto-recommender-system\n",
        "!unzip /content/otto-recommender-system.zip\n",
        "\n",
        "# ------------------------------------------------------\n",
        "# pySpark Tutorial from https://towardsdatascience.com/pyspark-on-google-colab-101-d31830b238be\n",
        "\n",
        "!apt-get install openjdk-11-jdk-headless -qq > /dev/null\n",
        "!wget -q https://archive.apache.org/dist/spark/spark-3.1.2/spark-3.1.2-bin-hadoop2.7.tgz\n",
        "!tar xf spark-3.1.2-bin-hadoop2.7.tgz\n",
        "!pip install -q findspark\n",
        "\n",
        "!pip install pickle5\n",
        "!pip install pyspark_dist_explore"
      ]
    },
    {
      "cell_type": "code",
      "execution_count": 1,
      "metadata": {
        "id": "s4wdIn0Mz76e"
      },
      "outputs": [],
      "source": []
    },
    {
      "cell_type": "code",
      "execution_count": 2,
      "metadata": {
        "id": "c5ElN1ix1DYB"
      },
      "outputs": [],
      "source": [
        "import os\n",
        "os.environ[\"JAVA_HOME\"] = \"/usr/lib/jvm/java-11-openjdk-amd64\"\n",
        "os.environ[\"SPARK_HOME\"] = \"/content/spark-3.1.2-bin-hadoop2.7\"\n",
        "os.environ[\"PYSPARK_SUBMIT_ARGS\"]='--num-executors 4 --executor-memory 4g --driver-memory 3g pyspark-shell'\n",
        "\n",
        "import findspark\n",
        "findspark.init()\n",
        "\n",
        "from pyspark.sql import SparkSession\n",
        "from pyspark.sql.types import StructType, StructField, IntegerType, LongType\n",
        "\n",
        "spark = (\n",
        "      SparkSession.builder\\\n",
        "        .master(\"local\")\\\n",
        "        .appName(\"sdr\")\\\n",
        "        .config('spark.ui.port', '4050')\\\n",
        "        .config(\"spark.driver.maxResultSize\", \"4g\")\\\n",
        "        #.config(\"spark.sql.crossJoin.enabled\", \"true\")\\\n",
        "        .getOrCreate()\n",
        "      )"
      ]
    },
    {
      "cell_type": "code",
      "execution_count": 3,
      "metadata": {
        "id": "h6ReRiq-2yUf"
      },
      "outputs": [],
      "source": [
        "from pyspark.ml.feature import Tokenizer, HashingTF, IDF\n",
        "\n",
        "from pyspark.ml import Pipeline\n",
        "import pyspark.sql.functions as F\n",
        "import pyspark.sql.types as T\n",
        "\n",
        "from pyspark.ml.linalg import DenseVector\n",
        "from pyspark.ml.linalg import Vectors\n",
        "from pyspark.ml.linalg import VectorUDT\n",
        "\n",
        "from pyspark.ml.feature import StringIndexer\n",
        "from pyspark.ml.feature import OneHotEncoder\n",
        "from pyspark.ml.feature import CountVectorizer\n",
        "from pyspark.ml.feature import VectorAssembler\n",
        "from pyspark.ml import Pipeline\n",
        "from pyspark.ml.evaluation import BinaryClassificationEvaluator\n",
        "from pyspark.ml.classification import LogisticRegression\n",
        "from pyspark.ml.classification import RandomForestClassifier\n",
        "from pyspark.ml.classification import GBTClassifier\n",
        "\n",
        "import gc\n",
        "import re\n",
        "from datetime import datetime\n",
        "\n",
        "import pickle5 as pickle\n",
        "import json\n",
        "\n",
        "from pyspark_dist_explore import hist\n",
        "import matplotlib.pyplot as plt"
      ]
    },
    {
      "cell_type": "code",
      "execution_count": 4,
      "metadata": {
        "id": "l4tpp3GtDWEC"
      },
      "outputs": [],
      "source": [
        "def SaveReadParquet( sparkDF_input\n",
        "                    , f_name = 'sDF_example_name'\n",
        "                    #, my_dir = '/content/drive/MyDrive/Colab Notebooks/Kaggle/' \n",
        "                    , my_dir = '/content/'\n",
        "                    ):\n",
        "    write_name = f'{my_dir}{f_name}.parquet'\n",
        "    sparkDF_input.write.mode('overwrite').parquet( write_name )\n",
        "    print( write_name )\n",
        "    return spark.read.parquet( write_name )"
      ]
    },
    {
      "cell_type": "markdown",
      "metadata": {
        "id": "XDI9-zKQm93V"
      },
      "source": [
        "# Files\n",
        "\n",
        "### - train.jsonl - the training data, which contains full session data\n",
        "\n",
        "- session - the unique session id\n",
        "- events - the time ordered sequence of events in the session\n",
        "-- aid - the article id (product code) of the associated event\n",
        "-- ts - the Unix timestamp of the event\n",
        "-- type - the event type, i.e., whether a product was clicked, added to the user's cart, or ordered during the session\n",
        "\n",
        "\n",
        "### - test.jsonl - the test data, which contains truncated session data\n",
        "your task is to predict the next aid clicked after the session truncation, as well as the the remaining aids that are added to carts and orders; you may predict up to 20 values for each \n",
        "session type\n",
        "\n",
        "\n",
        "### - sample_submission.csv - a sample submission file in the correct format"
      ]
    },
    {
      "cell_type": "markdown",
      "metadata": {
        "id": "-kKn-mvxtJRR"
      },
      "source": [
        "# Load Train Data"
      ]
    },
    {
      "cell_type": "code",
      "execution_count": 5,
      "metadata": {
        "colab": {
          "base_uri": "https://localhost:8080/"
        },
        "id": "5zNLcwym2yXS",
        "outputId": "7be60023-83b3-4a20-cf87-4d3125f30718"
      },
      "outputs": [
        {
          "output_type": "stream",
          "name": "stdout",
          "text": [
            "root\n",
            " |-- session: long (nullable = true)\n",
            " |-- aid: array (nullable = true)\n",
            " |    |-- element: long (containsNull = true)\n",
            " |-- ts: array (nullable = true)\n",
            " |    |-- element: long (containsNull = true)\n",
            " |-- type: array (nullable = true)\n",
            " |    |-- element: string (containsNull = true)\n",
            "\n",
            "+-------+--------------------+--------------------+--------------------+\n",
            "|session|                 aid|                  ts|                type|\n",
            "+-------+--------------------+--------------------+--------------------+\n",
            "|      0|[1517085, 1563459...|[1659304800025, 1...|[clicks, clicks, ...|\n",
            "|      1|[424964, 1492293,...|[1659304800025, 1...|[carts, clicks, c...|\n",
            "|      2|[763743, 137492, ...|[1659304800038, 1...|[clicks, clicks, ...|\n",
            "|      3|[1425967, 1425967...|[1659304800095, 1...|[carts, clicks, c...|\n",
            "|      4|[613619, 298827, ...|[1659304800119, 1...|[clicks, clicks, ...|\n",
            "|      5|[1098089, 1354785...|[1659304800133, 1...|[clicks, clicks, ...|\n",
            "|      6|[137164, 956148, ...|[1659304800134, 1...|[clicks, clicks, ...|\n",
            "|      7|[87774, 1241611, ...|[1659304800134, 1...|[clicks, clicks, ...|\n",
            "|      8|[1814223, 324620,...|[1659304800136, 1...|[clicks, clicks, ...|\n",
            "|      9|[847707, 847707, ...|[1659304800144, 1...|[clicks, carts, c...|\n",
            "|     10|[271630, 967918, ...|[1659304800151, 1...|[clicks, clicks, ...|\n",
            "|     11|[1110510, 1110510...|[1659304800172, 1...|[clicks, clicks, ...|\n",
            "|     12|[832890, 832890, ...|[1659304800200, 1...|[clicks, carts, o...|\n",
            "|     13|[1674493, 1674493...|[1659304800201, 1...|[clicks, clicks, ...|\n",
            "|     14|[414349, 414349, ...|[1659304800234, 1...|[clicks, carts, c...|\n",
            "|     15|[1464271, 1464271...|[1659304800257, 1...|[clicks, carts, c...|\n",
            "|     16|[1143723, 1003508...|[1659304800274, 1...|[carts, clicks, c...|\n",
            "|     17|[120548, 1842471,...|[1659304800325, 1...|[clicks, clicks, ...|\n",
            "|     18|[841121, 1688963,...|[1659304800326, 1...|[clicks, clicks, ...|\n",
            "|     19|[1248752, 1446002...|[1659304800333, 1...|[clicks, clicks, ...|\n",
            "+-------+--------------------+--------------------+--------------------+\n",
            "only showing top 20 rows\n",
            "\n"
          ]
        }
      ],
      "source": [
        "sDF_train = spark.read.json( 'train.jsonl' )\n",
        "sDF_train = ( sDF_train.select(\n",
        "                        'session' \n",
        "                        , 'events.aid'\n",
        "                        , 'events.ts'\n",
        "                        , 'events.type'\n",
        "                      )\n",
        "              )\n",
        "\n",
        "sDF_train.printSchema()\n",
        "sDF_train.show()"
      ]
    },
    {
      "cell_type": "code",
      "execution_count": 6,
      "metadata": {
        "colab": {
          "base_uri": "https://localhost:8080/"
        },
        "id": "qXm-gP66SOQs",
        "outputId": "834856fb-8c89-4dbf-f9cb-d83a130a50dc"
      },
      "outputs": [
        {
          "output_type": "stream",
          "name": "stdout",
          "text": [
            "CPU times: user 2.03 ms, sys: 2.07 ms, total: 4.1 ms\n",
            "Wall time: 46.7 ms\n"
          ]
        }
      ],
      "source": [
        "%%time\n",
        "\n",
        "sDF_train2 = sDF_train\\\n",
        "    .select( 'session' , F.posexplode('aid') ) \\\n",
        "    .withColumnRenamed('col','aid')\n",
        "    \n",
        "# sDF_train2.show()"
      ]
    },
    {
      "cell_type": "code",
      "execution_count": 7,
      "metadata": {
        "colab": {
          "base_uri": "https://localhost:8080/"
        },
        "id": "mZQKaJjke1a3",
        "outputId": "3b4f1b37-795a-40d8-b27b-859e749353c8"
      },
      "outputs": [
        {
          "output_type": "stream",
          "name": "stdout",
          "text": [
            "/content/sDF_train2.parquet\n",
            "CPU times: user 1.12 s, sys: 128 ms, total: 1.24 s\n",
            "Wall time: 4min 13s\n"
          ]
        }
      ],
      "source": [
        "%%time\n",
        "\n",
        "sDF_train2 = SaveReadParquet(sDF_train2,'sDF_train2')"
      ]
    },
    {
      "cell_type": "code",
      "execution_count": 8,
      "metadata": {
        "colab": {
          "base_uri": "https://localhost:8080/"
        },
        "id": "Vzc8G4K_SRG-",
        "outputId": "6e3b45fe-ce86-4ae1-b892-aaea21e0028e"
      },
      "outputs": [
        {
          "output_type": "stream",
          "name": "stdout",
          "text": [
            "CPU times: user 4.74 ms, sys: 1.86 ms, total: 6.6 ms\n",
            "Wall time: 117 ms\n"
          ]
        }
      ],
      "source": [
        "%%time\n",
        "\n",
        "sDF_train3 = sDF_train\\\n",
        "    .select( 'session' , F.posexplode('ts') ) \\\n",
        "    .withColumnRenamed('col','ts') \\\n",
        "    .withColumn('ts', F.col('ts') / F.lit(1000) ) \\\n",
        "    .withColumn('ts', F.round( F.col('ts') ) )\n",
        "\n",
        "# sDF_train3.printSchema()"
      ]
    },
    {
      "cell_type": "code",
      "execution_count": 9,
      "metadata": {
        "colab": {
          "base_uri": "https://localhost:8080/"
        },
        "id": "FknoDE1-fDhz",
        "outputId": "6436cc71-51f2-489c-9a6a-6746411eb01b"
      },
      "outputs": [
        {
          "output_type": "stream",
          "name": "stdout",
          "text": [
            "/content/sDF_train3.parquet\n",
            "CPU times: user 1.45 s, sys: 193 ms, total: 1.64 s\n",
            "Wall time: 5min 16s\n"
          ]
        }
      ],
      "source": [
        "%%time\n",
        "\n",
        "sDF_train3 = SaveReadParquet(sDF_train3,'sDF_train3')"
      ]
    },
    {
      "cell_type": "code",
      "execution_count": 10,
      "metadata": {
        "id": "wLPCY_rYSJB1"
      },
      "outputs": [],
      "source": [
        "type_labels_dic = {'clicks':0, 'carts':1, 'orders':2}\n",
        "\n",
        "@F.udf( T.StringType() )\n",
        "def type_labels(x):\n",
        "    return type_labels_dic[x]\n",
        "\n",
        "sDF_train4 = sDF_train\\\n",
        "    .select( 'session' , F.posexplode('type') ) \\\n",
        "    .withColumnRenamed( 'col', 'type' ) \\\n",
        "    .withColumn( 'type', type_labels(F.col('type') ) )\n",
        "\n",
        "# sDF_train4.show()"
      ]
    },
    {
      "cell_type": "code",
      "execution_count": 11,
      "metadata": {
        "colab": {
          "base_uri": "https://localhost:8080/"
        },
        "id": "gcNuuc6se8Wi",
        "outputId": "364ee796-b8f6-4e0b-9dfb-a328163f8de8"
      },
      "outputs": [
        {
          "output_type": "stream",
          "name": "stdout",
          "text": [
            "/content/sDF_train4.parquet\n",
            "CPU times: user 3.1 s, sys: 404 ms, total: 3.51 s\n",
            "Wall time: 11min 22s\n"
          ]
        }
      ],
      "source": [
        "%%time\n",
        "\n",
        "sDF_train4 = SaveReadParquet(sDF_train4,'sDF_train4')"
      ]
    },
    {
      "cell_type": "code",
      "execution_count": 12,
      "metadata": {
        "colab": {
          "base_uri": "https://localhost:8080/"
        },
        "id": "lOUIQTTfJDNh",
        "outputId": "18cead08-125c-4c29-8937-6008c8987db2"
      },
      "outputs": [
        {
          "output_type": "stream",
          "name": "stdout",
          "text": [
            "CPU times: user 3.63 ms, sys: 0 ns, total: 3.63 ms\n",
            "Wall time: 50.7 ms\n"
          ]
        }
      ],
      "source": [
        "%%time\n",
        "\n",
        "sDF_train5 = sDF_train2 \\\n",
        "    .join( sDF_train3, on=['session','pos'],how='inner') \\\n",
        "    .join( sDF_train4, on=['session','pos'],how='inner') \n",
        "\n",
        "# sDF_train5.printSchema()"
      ]
    },
    {
      "cell_type": "code",
      "execution_count": 13,
      "metadata": {
        "colab": {
          "base_uri": "https://localhost:8080/"
        },
        "id": "04CAxWhL2P1M",
        "outputId": "cd63b6ab-36fa-4eac-c4e9-bb4b15f3c35d"
      },
      "outputs": [
        {
          "output_type": "stream",
          "name": "stdout",
          "text": [
            "/content/sDF_train5.parquet\n",
            "+-------+---+-------+-------------+----+\n",
            "|session|pos|    aid|           ts|type|\n",
            "+-------+---+-------+-------------+----+\n",
            "|      0|  6|1649869|1.659369894E9|   1|\n",
            "|      0|112|1443747|1.660628405E9|   0|\n",
            "|      0|203| 974651|1.661550342E9|   1|\n",
            "|      0|268| 543308|1.661682228E9|   0|\n",
            "|      3| 16|1089061| 1.65939068E9|   0|\n",
            "|      6| 47|1479126|    1.65935E9|   0|\n",
            "|      6| 73|1747070|1.659352644E9|   0|\n",
            "|      6|100|  60590|1.659391566E9|   0|\n",
            "|      7|  4|1727444|1.659304888E9|   0|\n",
            "|     14| 15| 354050|1.659306059E9|   0|\n",
            "|     14| 84| 588838|1.659531835E9|   0|\n",
            "|     14|180| 311992|1.659568261E9|   0|\n",
            "|     14|349| 494715|1.661025531E9|   0|\n",
            "|     19| 91|1312778|1.659646045E9|   0|\n",
            "|     21| 21| 482707|1.659308077E9|   1|\n",
            "|     21|204| 484647|1.659709127E9|   0|\n",
            "|     21|305|1781373|1.660486968E9|   0|\n",
            "|     21|312|1842105|1.660566916E9|   0|\n",
            "|     21|363| 927708| 1.66076356E9|   0|\n",
            "|     23|  8| 826995|1.659842156E9|   1|\n",
            "+-------+---+-------+-------------+----+\n",
            "only showing top 20 rows\n",
            "\n",
            "CPU times: user 2.52 s, sys: 322 ms, total: 2.84 s\n",
            "Wall time: 9min 11s\n"
          ]
        }
      ],
      "source": [
        "%%time\n",
        "    \n",
        "sDF_train5 = SaveReadParquet( sDF_train5, 'sDF_train5' )\n",
        "    \n",
        "# sDF_train5 = SaveReadParquet( sDF_train5\n",
        "#                         , 'sDF_train5'\n",
        "#                         , my_dir = '/content/drive/MyDrive/Colab Notebooks/Kaggle/'  )\n",
        "\n",
        "sDF_train5.count()\n",
        "sDF_train5.show()"
      ]
    },
    {
      "cell_type": "code",
      "execution_count": 13,
      "metadata": {
        "id": "gU52LYnjn1VH"
      },
      "outputs": [],
      "source": []
    },
    {
      "cell_type": "markdown",
      "metadata": {
        "id": "cYUTMXEItFVk"
      },
      "source": [
        "# Load Test Data"
      ]
    },
    {
      "cell_type": "code",
      "execution_count": 14,
      "metadata": {
        "colab": {
          "base_uri": "https://localhost:8080/"
        },
        "id": "8W1W63D7Jy-g",
        "outputId": "a3a6f404-d822-4d41-f44e-021e37caf328"
      },
      "outputs": [
        {
          "output_type": "stream",
          "name": "stdout",
          "text": [
            "root\n",
            " |-- session: long (nullable = true)\n",
            " |-- aid: array (nullable = true)\n",
            " |    |-- element: long (containsNull = true)\n",
            " |-- ts: array (nullable = true)\n",
            " |    |-- element: long (containsNull = true)\n",
            " |-- type: array (nullable = true)\n",
            " |    |-- element: string (containsNull = true)\n",
            "\n",
            "+--------+--------------------+--------------------+--------------------+\n",
            "| session|                 aid|                  ts|                type|\n",
            "+--------+--------------------+--------------------+--------------------+\n",
            "|12899779|             [59625]|     [1661724000278]|            [clicks]|\n",
            "|12899780|[1142000, 582732,...|[1661724000378, 1...|[clicks, clicks, ...|\n",
            "|12899781|[141736, 199008, ...|[1661724000559, 1...|[clicks, clicks, ...|\n",
            "|12899782|[1669402, 1494780...|[1661724000568, 1...|[clicks, clicks, ...|\n",
            "|12899783|[255297, 1114789,...|[1661724000572, 1...|[clicks, clicks, ...|\n",
            "|12899784|[1036375, 1269952...|[1661724000604, 1...|[clicks, clicks, ...|\n",
            "|12899785|[1784451, 1169631...|[1661724000809, 1...|[clicks, clicks, ...|\n",
            "|12899786|    [955252, 955252]|[1661724001174, 1...|     [clicks, carts]|\n",
            "|12899787|[1682750, 1682750...|[1661724001617, 1...|[clicks, carts, c...|\n",
            "|12899788|[245131, 39846, 1...|[1661724001619, 1...|[clicks, clicks, ...|\n",
            "|12899789|[525156, 631398, ...|[1661724002025, 1...|[clicks, clicks, ...|\n",
            "|12899790|[1219653, 1830166...|[1661724002843, 1...|[carts, clicks, c...|\n",
            "|12899791|[915175, 915175, ...|[1661724002984, 1...|[clicks, clicks, ...|\n",
            "|12899792|[1537160, 1537160...|[1661724003149, 1...|[clicks, clicks, ...|\n",
            "|12899793|[1181781, 1585431...|[1661724003444, 1...|[clicks, clicks, ...|\n",
            "|12899794|  [1746099, 1242729]|[1661724003737, 1...|    [clicks, clicks]|\n",
            "|12899795|    [207754, 641250]|[1661724003946, 1...|    [clicks, clicks]|\n",
            "|12899796|              [4503]|     [1661724004002]|            [clicks]|\n",
            "|12899797|   [1335784, 156020]|[1661724004003, 1...|    [clicks, clicks]|\n",
            "|12899798|[379440, 1441157,...|[1661724004013, 1...|[clicks, clicks, ...|\n",
            "+--------+--------------------+--------------------+--------------------+\n",
            "only showing top 20 rows\n",
            "\n"
          ]
        }
      ],
      "source": [
        "sDF_test = spark.read.json( 'test.jsonl' )\n",
        "sDF_test = ( sDF_test.select(\n",
        "                        'session' \n",
        "                        , 'events.aid'\n",
        "                        , 'events.ts'\n",
        "                        , 'events.type'\n",
        "                      )\n",
        "              )\n",
        "\n",
        "sDF_test.printSchema()\n",
        "sDF_test.show()"
      ]
    },
    {
      "cell_type": "code",
      "execution_count": 15,
      "metadata": {
        "colab": {
          "base_uri": "https://localhost:8080/"
        },
        "id": "3hdWiPgJogpy",
        "outputId": "bb441ff9-6cae-4b9b-e9f5-ce1fce3da494"
      },
      "outputs": [
        {
          "output_type": "stream",
          "name": "stdout",
          "text": [
            "CPU times: user 4.45 ms, sys: 323 µs, total: 4.77 ms\n",
            "Wall time: 54.4 ms\n"
          ]
        }
      ],
      "source": [
        "%%time\n",
        "\n",
        "sDF_test2 = sDF_test\\\n",
        "    .select( 'session' , F.posexplode('aid') ) \\\n",
        "    .withColumnRenamed('col','aid')\n",
        "    \n",
        "# sDF_test2.show()"
      ]
    },
    {
      "cell_type": "code",
      "execution_count": 16,
      "metadata": {
        "colab": {
          "base_uri": "https://localhost:8080/"
        },
        "id": "TdM9aB-uo7H8",
        "outputId": "9f257e08-91b0-4d02-d298-2299a40b0576"
      },
      "outputs": [
        {
          "output_type": "stream",
          "name": "stdout",
          "text": [
            "/content/sDF_test2.parquet\n",
            "CPU times: user 64.9 ms, sys: 4.59 ms, total: 69.5 ms\n",
            "Wall time: 10.8 s\n"
          ]
        }
      ],
      "source": [
        "%%time\n",
        "    \n",
        "sDF_test2 = SaveReadParquet( sDF_test2, 'sDF_test2' )"
      ]
    },
    {
      "cell_type": "code",
      "execution_count": 17,
      "metadata": {
        "colab": {
          "base_uri": "https://localhost:8080/"
        },
        "id": "0uFXRgPmogsd",
        "outputId": "33b5ff56-7763-49f3-f464-8fb4b3008885"
      },
      "outputs": [
        {
          "output_type": "stream",
          "name": "stdout",
          "text": [
            "CPU times: user 4.03 ms, sys: 2.13 ms, total: 6.16 ms\n",
            "Wall time: 53.6 ms\n"
          ]
        }
      ],
      "source": [
        "%%time\n",
        "\n",
        "sDF_test3 = sDF_test\\\n",
        "    .select( 'session' , F.posexplode('ts') ) \\\n",
        "    .withColumnRenamed('col','ts') \\\n",
        "    .withColumn('ts', F.col('ts') / F.lit(1000) ) \\\n",
        "    .withColumn('ts', F.round( F.col('ts') ) )\n",
        "\n",
        "# sDF_test3.printSchema()"
      ]
    },
    {
      "cell_type": "code",
      "execution_count": 18,
      "metadata": {
        "colab": {
          "base_uri": "https://localhost:8080/"
        },
        "id": "VGLVOO75o73N",
        "outputId": "c6fa9979-40a8-4431-d320-a204a357799e"
      },
      "outputs": [
        {
          "output_type": "stream",
          "name": "stdout",
          "text": [
            "/content/sDF_test3.parquet\n",
            "CPU times: user 69.6 ms, sys: 6.79 ms, total: 76.4 ms\n",
            "Wall time: 12.2 s\n"
          ]
        }
      ],
      "source": [
        "%%time\n",
        "    \n",
        "sDF_test3 = SaveReadParquet( sDF_test3, 'sDF_test3' )"
      ]
    },
    {
      "cell_type": "code",
      "execution_count": 19,
      "metadata": {
        "id": "ecuVfuFyogur"
      },
      "outputs": [],
      "source": [
        "type_labels_dic = {'clicks':0, 'carts':1, 'orders':2}\n",
        "\n",
        "@F.udf( T.StringType() )\n",
        "def type_labels(x):\n",
        "    return type_labels_dic[x]\n",
        "\n",
        "sDF_test4 = sDF_test\\\n",
        "    .select( 'session' , F.posexplode('type') ) \\\n",
        "    .withColumnRenamed( 'col', 'type' ) \\\n",
        "    .withColumn( 'type', type_labels(F.col('type') ) )\n",
        "\n",
        "# sDF_test4.show()"
      ]
    },
    {
      "cell_type": "code",
      "execution_count": 20,
      "metadata": {
        "colab": {
          "base_uri": "https://localhost:8080/"
        },
        "id": "O-YIAGUQo8rX",
        "outputId": "3e67503f-f2af-407d-fbb8-58dd7ac4d3c9"
      },
      "outputs": [
        {
          "output_type": "stream",
          "name": "stdout",
          "text": [
            "/content/sDF_test4.parquet\n",
            "CPU times: user 167 ms, sys: 25.1 ms, total: 192 ms\n",
            "Wall time: 27.6 s\n"
          ]
        }
      ],
      "source": [
        "%%time\n",
        "    \n",
        "sDF_test4 = SaveReadParquet( sDF_test4, 'sDF_test4' )"
      ]
    },
    {
      "cell_type": "code",
      "execution_count": 21,
      "metadata": {
        "colab": {
          "base_uri": "https://localhost:8080/"
        },
        "id": "UmjrF6bLogxc",
        "outputId": "e80a1a98-5cbc-4234-a5c7-58036a7953f3"
      },
      "outputs": [
        {
          "output_type": "stream",
          "name": "stdout",
          "text": [
            "CPU times: user 1.02 ms, sys: 1.06 ms, total: 2.07 ms\n",
            "Wall time: 19.5 ms\n"
          ]
        }
      ],
      "source": [
        "%%time\n",
        "\n",
        "sDF_test5 = sDF_test2 \\\n",
        "    .join( sDF_test3, on=['session','pos'],how='inner') \\\n",
        "    .join( sDF_test4, on=['session','pos'],how='inner') \n",
        "\n",
        "# sDF_test5.printSchema()"
      ]
    },
    {
      "cell_type": "code",
      "execution_count": 22,
      "metadata": {
        "colab": {
          "base_uri": "https://localhost:8080/"
        },
        "id": "Ks2iHLbWog2u",
        "outputId": "5225af96-0ee5-42da-fd7d-6625e3ea3ae6"
      },
      "outputs": [
        {
          "output_type": "stream",
          "name": "stdout",
          "text": [
            "/content/sDF_test5.parquet\n",
            "+--------+---+-------+-------------+----+\n",
            "| session|pos|    aid|           ts|type|\n",
            "+--------+---+-------+-------------+----+\n",
            "|12899789|  1| 631398|1.661724204E9|   0|\n",
            "|12899791|  3|1365651| 1.66172411E9|   0|\n",
            "|12899793|  2|1792644|1.661724057E9|   0|\n",
            "|12899832|  8|1509329|1.661724668E9|   0|\n",
            "|12899842|  0|  46318|1.661724013E9|   0|\n",
            "|12899850| 98|1004556|1.661791542E9|   0|\n",
            "|12899852| 19| 701401|1.661730833E9|   0|\n",
            "|12899852|112|  90712|1.661811416E9|   0|\n",
            "|12899860|  4|1293588|1.661776478E9|   2|\n",
            "|12899906| 13| 938051|1.661724525E9|   1|\n",
            "|12899907| 20| 443295|1.661725332E9|   1|\n",
            "|12899919| 48|1637761|1.662297442E9|   0|\n",
            "|12899919| 52|1488793|1.662297631E9|   1|\n",
            "|12899946| 22|1490773|1.661724294E9|   0|\n",
            "|12899950| 31| 560261|1.661725337E9|   1|\n",
            "|12900014|  4|1722760|1.661724179E9|   0|\n",
            "|12900016|  5|1102414|1.661724139E9|   0|\n",
            "|12900016| 31| 244618|1.661768665E9|   0|\n",
            "|12900021| 10|1587914|1.661724221E9|   0|\n",
            "|12900026|  0|1705606|1.661724067E9|   0|\n",
            "+--------+---+-------+-------------+----+\n",
            "only showing top 20 rows\n",
            "\n",
            "CPU times: user 128 ms, sys: 17.3 ms, total: 145 ms\n",
            "Wall time: 25.3 s\n"
          ]
        }
      ],
      "source": [
        "%%time\n",
        "\n",
        "# local\n",
        "sDF_test5 = SaveReadParquet( sDF_test5, 'sDF_test5' )\n",
        "\n",
        "# # cloud\n",
        "# sDF_test5 = SaveReadParquet( sDF_test5\n",
        "#                         , 'sDF_test5'\n",
        "#                         , my_dir = '/content/drive/MyDrive/Colab Notebooks/Kaggle/'  )\n",
        "\n",
        "sDF_test5.count()\n",
        "sDF_test5.show()"
      ]
    },
    {
      "cell_type": "code",
      "execution_count": 22,
      "metadata": {
        "id": "gp5UbVuap6Dc"
      },
      "outputs": [],
      "source": []
    },
    {
      "cell_type": "markdown",
      "metadata": {
        "id": "ZImoCAb7w8UB"
      },
      "source": [
        "# Load Data from Parquet"
      ]
    },
    {
      "cell_type": "code",
      "execution_count": 23,
      "metadata": {
        "id": "xZviXVCCrsVo",
        "colab": {
          "base_uri": "https://localhost:8080/"
        },
        "outputId": "81c77fc9-1bca-404e-9b6c-f8187b227036"
      },
      "outputs": [
        {
          "output_type": "stream",
          "name": "stdout",
          "text": [
            "+-------+---+-------+-------------+----+\n",
            "|session|pos|    aid|           ts|type|\n",
            "+-------+---+-------+-------------+----+\n",
            "|      0|  6|1649869|1.659369894E9|   1|\n",
            "|      0|112|1443747|1.660628405E9|   0|\n",
            "|      0|203| 974651|1.661550342E9|   1|\n",
            "|      0|268| 543308|1.661682228E9|   0|\n",
            "|      3| 16|1089061| 1.65939068E9|   0|\n",
            "|      6| 47|1479126|    1.65935E9|   0|\n",
            "|      6| 73|1747070|1.659352644E9|   0|\n",
            "|      6|100|  60590|1.659391566E9|   0|\n",
            "|      7|  4|1727444|1.659304888E9|   0|\n",
            "|     14| 15| 354050|1.659306059E9|   0|\n",
            "|     14| 84| 588838|1.659531835E9|   0|\n",
            "|     14|180| 311992|1.659568261E9|   0|\n",
            "|     14|349| 494715|1.661025531E9|   0|\n",
            "|     19| 91|1312778|1.659646045E9|   0|\n",
            "|     21| 21| 482707|1.659308077E9|   1|\n",
            "|     21|204| 484647|1.659709127E9|   0|\n",
            "|     21|305|1781373|1.660486968E9|   0|\n",
            "|     21|312|1842105|1.660566916E9|   0|\n",
            "|     21|363| 927708| 1.66076356E9|   0|\n",
            "|     23|  8| 826995|1.659842156E9|   1|\n",
            "+-------+---+-------+-------------+----+\n",
            "only showing top 20 rows\n",
            "\n",
            "+--------+---+-------+-------------+----+\n",
            "| session|pos|    aid|           ts|type|\n",
            "+--------+---+-------+-------------+----+\n",
            "|12899789|  1| 631398|1.661724204E9|   0|\n",
            "|12899791|  3|1365651| 1.66172411E9|   0|\n",
            "|12899793|  2|1792644|1.661724057E9|   0|\n",
            "|12899832|  8|1509329|1.661724668E9|   0|\n",
            "|12899842|  0|  46318|1.661724013E9|   0|\n",
            "|12899850| 98|1004556|1.661791542E9|   0|\n",
            "|12899852| 19| 701401|1.661730833E9|   0|\n",
            "|12899852|112|  90712|1.661811416E9|   0|\n",
            "|12899860|  4|1293588|1.661776478E9|   2|\n",
            "|12899906| 13| 938051|1.661724525E9|   1|\n",
            "|12899907| 20| 443295|1.661725332E9|   1|\n",
            "|12899919| 48|1637761|1.662297442E9|   0|\n",
            "|12899919| 52|1488793|1.662297631E9|   1|\n",
            "|12899946| 22|1490773|1.661724294E9|   0|\n",
            "|12899950| 31| 560261|1.661725337E9|   1|\n",
            "|12900014|  4|1722760|1.661724179E9|   0|\n",
            "|12900016|  5|1102414|1.661724139E9|   0|\n",
            "|12900016| 31| 244618|1.661768665E9|   0|\n",
            "|12900021| 10|1587914|1.661724221E9|   0|\n",
            "|12900026|  0|1705606|1.661724067E9|   0|\n",
            "+--------+---+-------+-------------+----+\n",
            "only showing top 20 rows\n",
            "\n",
            "CPU times: user 7.55 ms, sys: 8 µs, total: 7.56 ms\n",
            "Wall time: 409 ms\n"
          ]
        }
      ],
      "source": [
        "%%time\n",
        "\n",
        "sDF_train5 = spark.read.parquet( 'sDF_train5.parquet' )\n",
        "sDF_test5 = spark.read.parquet( 'sDF_test5.parquet' )\n",
        "\n",
        "sDF_train5.show()\n",
        "sDF_test5.show()"
      ]
    },
    {
      "cell_type": "markdown",
      "metadata": {
        "id": "i6scAdDRtCAe"
      },
      "source": [
        "# View Data"
      ]
    },
    {
      "cell_type": "code",
      "execution_count": 24,
      "metadata": {
        "colab": {
          "base_uri": "https://localhost:8080/"
        },
        "id": "1e_1AQ_ftXOo",
        "outputId": "f8c34879-adf5-4bc5-a842-5504b3543766"
      },
      "outputs": [
        {
          "output_type": "stream",
          "name": "stdout",
          "text": [
            "+---+-----------+-------------+\n",
            "|pos|session_cnt|session_share|\n",
            "+---+-----------+-------------+\n",
            "|  1|   12899779|        100.0|\n",
            "|  0|   12899779|        100.0|\n",
            "|  2|   10405594|         81.0|\n",
            "|  3|    8791396|         68.0|\n",
            "|  4|    7624389|         59.0|\n",
            "|  5|    6751602|         52.0|\n",
            "|  6|    6061859|         47.0|\n",
            "|  7|    5506372|         43.0|\n",
            "|  8|    5046120|         39.0|\n",
            "|  9|    4655041|         36.0|\n",
            "| 10|    4321310|         33.0|\n",
            "| 11|    4030948|         31.0|\n",
            "| 12|    3775810|         29.0|\n",
            "| 13|    3549973|         28.0|\n",
            "| 14|    3347229|         26.0|\n",
            "| 15|    3164777|         25.0|\n",
            "| 16|    3000164|         23.0|\n",
            "| 17|    2850652|         22.0|\n",
            "| 18|    2714134|         21.0|\n",
            "| 19|    2588977|         20.0|\n",
            "+---+-----------+-------------+\n",
            "only showing top 20 rows\n",
            "\n"
          ]
        }
      ],
      "source": [
        "# Train Data\n",
        "val_count = sDF_train4.agg(  F.countDistinct('session').alias('session_cnt') ).collect()[0][0]\n",
        "\n",
        "sDF_train4 \\\n",
        "    .groupBy('pos').agg(  F.countDistinct('session').alias('session_cnt') ) \\\n",
        "    .orderBy( F.col(\"session_cnt\").desc() ) \\\n",
        "    .withColumn( 'session_share', F.col('session_cnt') / F.lit(val_count) * F.lit(100) ) \\\n",
        "    .withColumn( 'session_share', F.round( F.col('session_share') ) ) \\\n",
        "    .show()"
      ]
    },
    {
      "cell_type": "code",
      "execution_count": 25,
      "metadata": {
        "colab": {
          "base_uri": "https://localhost:8080/"
        },
        "id": "Q9wM9GtcqDXh",
        "outputId": "7abd59f6-2eb0-4a7d-8003-b093acc9600f"
      },
      "outputs": [
        {
          "output_type": "stream",
          "name": "stdout",
          "text": [
            "+---+-----------+-------------+\n",
            "|pos|session_cnt|session_share|\n",
            "+---+-----------+-------------+\n",
            "|  0|    1671803|        100.0|\n",
            "|  1|     921704|         55.0|\n",
            "|  2|     627261|         38.0|\n",
            "|  3|     466825|         28.0|\n",
            "|  4|     365488|         22.0|\n",
            "|  5|     296124|         18.0|\n",
            "|  6|     246182|         15.0|\n",
            "|  7|     208236|         12.0|\n",
            "|  8|     178631|         11.0|\n",
            "|  9|     155220|          9.0|\n",
            "| 10|     135808|          8.0|\n",
            "| 11|     120195|          7.0|\n",
            "| 12|     106772|          6.0|\n",
            "| 13|      95584|          6.0|\n",
            "| 14|      85956|          5.0|\n",
            "| 15|      77691|          5.0|\n",
            "| 16|      70553|          4.0|\n",
            "| 17|      64330|          4.0|\n",
            "| 18|      58737|          4.0|\n",
            "| 19|      53963|          3.0|\n",
            "+---+-----------+-------------+\n",
            "only showing top 20 rows\n",
            "\n"
          ]
        }
      ],
      "source": [
        "# Test Data\n",
        "val_count = sDF_test4.agg(  F.countDistinct('session').alias('session_cnt') ).collect()[0][0]\n",
        "\n",
        "sDF_test4 \\\n",
        "    .groupBy('pos').agg(  F.countDistinct('session').alias('session_cnt') ) \\\n",
        "    .orderBy( F.col(\"session_cnt\").desc() ) \\\n",
        "    .withColumn( 'session_share', F.col('session_cnt') / F.lit(val_count) * F.lit(100) ) \\\n",
        "    .withColumn( 'session_share', F.round( F.col('session_share') ) ) \\\n",
        "    .show()"
      ]
    },
    {
      "cell_type": "code",
      "execution_count": 26,
      "metadata": {
        "colab": {
          "base_uri": "https://localhost:8080/"
        },
        "id": "lCNXnYoKwDU6",
        "outputId": "d5b53f07-11a9-47a7-a258-7fe3a81f2f85"
      },
      "outputs": [
        {
          "output_type": "execute_result",
          "data": {
            "text/plain": [
              "(216716096, 6928123, 0.03196865912534711)"
            ]
          },
          "metadata": {},
          "execution_count": 26
        }
      ],
      "source": [
        "shape_train = sDF_train5.count()\n",
        "shape_test = sDF_test5.count()\n",
        "\n",
        "( shape_train,\n",
        "   shape_test,\n",
        "   shape_test/shape_train )"
      ]
    },
    {
      "cell_type": "code",
      "execution_count": 27,
      "metadata": {
        "colab": {
          "base_uri": "https://localhost:8080/"
        },
        "id": "XlPS9zyOx7Qr",
        "outputId": "eb2ec1c0-6da9-415d-97f7-f8fa371e02b9"
      },
      "outputs": [
        {
          "output_type": "execute_result",
          "data": {
            "text/plain": [
              "(12899779, 1671803, 0.12959935205091497)"
            ]
          },
          "metadata": {},
          "execution_count": 27
        }
      ],
      "source": [
        "session_train = sDF_train5.agg(  F.countDistinct('session').alias('session_cnt') ).collect()[0][0]\n",
        "session_test = sDF_test5.agg(  F.countDistinct('session').alias('session_cnt') ).collect()[0][0]\n",
        "\n",
        "( session_train,\n",
        "   session_test,\n",
        "   session_test/session_train )"
      ]
    },
    {
      "cell_type": "code",
      "execution_count": 27,
      "metadata": {
        "id": "12bw8pcB1oqV"
      },
      "outputs": [],
      "source": []
    },
    {
      "cell_type": "code",
      "execution_count": 28,
      "metadata": {
        "colab": {
          "base_uri": "https://localhost:8080/",
          "height": 479
        },
        "id": "bqMEolSo1VhN",
        "outputId": "5ee9466b-9b74-4191-d67f-7febeed9ed43"
      },
      "outputs": [
        {
          "output_type": "stream",
          "name": "stdout",
          "text": [
            "CPU times: user 1.09 s, sys: 163 ms, total: 1.25 s\n",
            "Wall time: 3min 38s\n"
          ]
        },
        {
          "output_type": "execute_result",
          "data": {
            "text/plain": [
              "(array([2494185., 1614198., 1167007., 1562530.,  555487., 1185062.,\n",
              "         771337.,  835839.,  538469.,  553756.,  424028.,  334890.,\n",
              "         275956.,  197370.,  142351.,  101256.,   68330.,   43401.,\n",
              "          25445.,    8882.]),\n",
              " array([0.69314718, 0.96922023, 1.24529327, 1.52136632, 1.79743936,\n",
              "        2.07351241, 2.34958546, 2.6256585 , 2.90173155, 3.17780459,\n",
              "        3.45387764, 3.72995069, 4.00602373, 4.28209678, 4.55816982,\n",
              "        4.83424287, 5.11031591, 5.38638896, 5.66246201, 5.93853505,\n",
              "        6.2146081 ]),\n",
              " <a list of 20 Patch objects>)"
            ]
          },
          "metadata": {},
          "execution_count": 28
        },
        {
          "output_type": "display_data",
          "data": {
            "text/plain": [
              "<Figure size 432x288 with 1 Axes>"
            ],
            "image/png": "[encoded data removed]"
          },
          "metadata": {
            "needs_background": "light"
          }
        }
      ],
      "source": [
        "%%time\n",
        "\n",
        "fig, ax = plt.subplots()\n",
        "hist( ax\n",
        "      , sDF_train5 \\\n",
        "          .groupBy('session').agg(  F.count('aid').alias('aid_cnt') ) \\\n",
        "          .withColumn( 'aid_cnt_log', F.log( F.col('aid_cnt') ) )\n",
        "          .select('aid_cnt_log')\n",
        "      , bins = 20\n",
        "      , color=['red'])"
      ]
    },
    {
      "cell_type": "code",
      "execution_count": 29,
      "metadata": {
        "colab": {
          "base_uri": "https://localhost:8080/",
          "height": 479
        },
        "id": "ov46NldX2J-w",
        "outputId": "28ccca45-0b64-43e5-d07b-3c28c77fa3ef"
      },
      "outputs": [
        {
          "output_type": "stream",
          "name": "stdout",
          "text": [
            "CPU times: user 312 ms, sys: 27.3 ms, total: 339 ms\n",
            "Wall time: 17.3 s\n"
          ]
        },
        {
          "output_type": "execute_result",
          "data": {
            "text/plain": [
              "(array([7.50099e+05, 0.00000e+00, 2.94443e+05, 1.60436e+05, 1.01337e+05,\n",
              "        1.19306e+05, 6.75510e+04, 5.84360e+04, 4.25040e+04, 3.17850e+04,\n",
              "        1.99470e+04, 1.15880e+04, 6.95800e+03, 3.87800e+03, 1.98900e+03,\n",
              "        8.92000e+02, 4.21000e+02, 1.57000e+02, 5.40000e+01, 2.20000e+01]),\n",
              " array([0.        , 0.30634346, 0.61268692, 0.91903038, 1.22537384,\n",
              "        1.5317173 , 1.83806076, 2.14440421, 2.45074767, 2.75709113,\n",
              "        3.06343459, 3.36977805, 3.67612151, 3.98246497, 4.28880843,\n",
              "        4.59515189, 4.90149535, 5.20783881, 5.51418227, 5.82052572,\n",
              "        6.12686918]),\n",
              " <a list of 20 Patch objects>)"
            ]
          },
          "metadata": {},
          "execution_count": 29
        },
        {
          "output_type": "display_data",
          "data": {
            "text/plain": [
              "<Figure size 432x288 with 1 Axes>"
            ],
            "image/png": "[encoded data removed]"
          },
          "metadata": {
            "needs_background": "light"
          }
        }
      ],
      "source": [
        "%%time\n",
        "\n",
        "fig, ax = plt.subplots()\n",
        "hist( ax\n",
        "      , sDF_test5 \\\n",
        "          .groupBy('session').agg(  F.count('aid').alias('aid_cnt') ) \\\n",
        "          .withColumn( 'aid_cnt_log', F.log( F.col('aid_cnt') ) )\n",
        "          .select('aid_cnt_log')\n",
        "      , bins = 20\n",
        "      , color=['blue'])"
      ]
    },
    {
      "cell_type": "code",
      "execution_count": 29,
      "metadata": {
        "id": "7FAj_WW3vUFB"
      },
      "outputs": [],
      "source": []
    },
    {
      "cell_type": "code",
      "execution_count": 30,
      "metadata": {
        "colab": {
          "base_uri": "https://localhost:8080/"
        },
        "id": "yKeBUyu1g3lZ",
        "outputId": "f830e5bd-8f02-44b1-f617-a69a32d60115"
      },
      "outputs": [
        {
          "output_type": "stream",
          "name": "stdout",
          "text": [
            "+-------+---+-------+----+-------------------+----------+-----------+----------------+---------------+----------+------------+\n",
            "|session|pos|    aid|type|              ts_dt|ts_dt_year|ts_dt_month|ts_dt_dayofmonth|ts_dt_dayofweek|ts_dt_hour|ts_dt_minute|\n",
            "+-------+---+-------+----+-------------------+----------+-----------+----------------+---------------+----------+------------+\n",
            "|      0|  6|1649869|   1|2022-08-01 16:04:54|      2022|          8|               1|              2|        16|           4|\n",
            "|      0|112|1443747|   0|2022-08-16 05:40:05|      2022|          8|              16|              3|         5|          40|\n",
            "|      0|203| 974651|   1|2022-08-26 21:45:42|      2022|          8|              26|              6|        21|          45|\n",
            "|      0|268| 543308|   0|2022-08-28 10:23:48|      2022|          8|              28|              1|        10|          23|\n",
            "|      3| 16|1089061|   0|2022-08-01 21:51:20|      2022|          8|               1|              2|        21|          51|\n",
            "|      6| 47|1479126|   0|2022-08-01 10:33:20|      2022|          8|               1|              2|        10|          33|\n",
            "|      6| 73|1747070|   0|2022-08-01 11:17:24|      2022|          8|               1|              2|        11|          17|\n",
            "|      6|100|  60590|   0|2022-08-01 22:06:06|      2022|          8|               1|              2|        22|           6|\n",
            "|      7|  4|1727444|   0|2022-07-31 22:01:28|      2022|          7|              31|              1|        22|           1|\n",
            "|     14| 15| 354050|   0|2022-07-31 22:20:59|      2022|          7|              31|              1|        22|          20|\n",
            "|     14| 84| 588838|   0|2022-08-03 13:03:55|      2022|          8|               3|              4|        13|           3|\n",
            "|     14|180| 311992|   0|2022-08-03 23:11:01|      2022|          8|               3|              4|        23|          11|\n",
            "|     14|349| 494715|   0|2022-08-20 19:58:51|      2022|          8|              20|              7|        19|          58|\n",
            "|     19| 91|1312778|   0|2022-08-04 20:47:25|      2022|          8|               4|              5|        20|          47|\n",
            "|     21| 21| 482707|   1|2022-07-31 22:54:37|      2022|          7|              31|              1|        22|          54|\n",
            "|     21|204| 484647|   0|2022-08-05 14:18:47|      2022|          8|               5|              6|        14|          18|\n",
            "|     21|305|1781373|   0|2022-08-14 14:22:48|      2022|          8|              14|              1|        14|          22|\n",
            "|     21|312|1842105|   0|2022-08-15 12:35:16|      2022|          8|              15|              2|        12|          35|\n",
            "|     21|363| 927708|   0|2022-08-17 19:12:40|      2022|          8|              17|              4|        19|          12|\n",
            "|     23|  8| 826995|   1|2022-08-07 03:15:56|      2022|          8|               7|              1|         3|          15|\n",
            "+-------+---+-------+----+-------------------+----------+-----------+----------------+---------------+----------+------------+\n",
            "only showing top 20 rows\n",
            "\n"
          ]
        }
      ],
      "source": [
        "sDF_train6 = sDF_train5.withColumn( 'ts_dt', F.to_timestamp(F.col('ts')) )\\\n",
        "        .withColumn( 'ts_dt_year', F.year('ts_dt') )\\\n",
        "        .withColumn( 'ts_dt_month', F.month('ts_dt') )\\\n",
        "        .withColumn( 'ts_dt_dayofmonth', F.dayofmonth('ts_dt') )\\\n",
        "        .withColumn( 'ts_dt_dayofweek', F.dayofweek('ts_dt') )\\\n",
        "        .withColumn( 'ts_dt_hour', F.hour('ts_dt') )\\\n",
        "        .withColumn( 'ts_dt_minute', F.minute('ts_dt') )\\\n",
        "        .drop(F.col('ts'))\n",
        "\n",
        "sDF_train6.show()"
      ]
    },
    {
      "cell_type": "code",
      "execution_count": 31,
      "metadata": {
        "colab": {
          "base_uri": "https://localhost:8080/"
        },
        "id": "vU3kb1vFeX83",
        "outputId": "6a18a689-eff8-4a52-a7ff-f651029502ca"
      },
      "outputs": [
        {
          "output_type": "stream",
          "name": "stdout",
          "text": [
            "+--------+---+-------+----+-------------------+----------+-----------+----------------+---------------+----------+------------+\n",
            "| session|pos|    aid|type|              ts_dt|ts_dt_year|ts_dt_month|ts_dt_dayofmonth|ts_dt_dayofweek|ts_dt_hour|ts_dt_minute|\n",
            "+--------+---+-------+----+-------------------+----------+-----------+----------------+---------------+----------+------------+\n",
            "|12899789|  1| 631398|   0|2022-08-28 22:03:24|      2022|          8|              28|              1|        22|           3|\n",
            "|12899791|  3|1365651|   0|2022-08-28 22:01:50|      2022|          8|              28|              1|        22|           1|\n",
            "|12899793|  2|1792644|   0|2022-08-28 22:00:57|      2022|          8|              28|              1|        22|           0|\n",
            "|12899832|  8|1509329|   0|2022-08-28 22:11:08|      2022|          8|              28|              1|        22|          11|\n",
            "|12899842|  0|  46318|   0|2022-08-28 22:00:13|      2022|          8|              28|              1|        22|           0|\n",
            "|12899850| 98|1004556|   0|2022-08-29 16:45:42|      2022|          8|              29|              2|        16|          45|\n",
            "|12899852| 19| 701401|   0|2022-08-28 23:53:53|      2022|          8|              28|              1|        23|          53|\n",
            "|12899852|112|  90712|   0|2022-08-29 22:16:56|      2022|          8|              29|              2|        22|          16|\n",
            "|12899860|  4|1293588|   2|2022-08-29 12:34:38|      2022|          8|              29|              2|        12|          34|\n",
            "|12899906| 13| 938051|   1|2022-08-28 22:08:45|      2022|          8|              28|              1|        22|           8|\n",
            "|12899907| 20| 443295|   1|2022-08-28 22:22:12|      2022|          8|              28|              1|        22|          22|\n",
            "|12899919| 48|1637761|   0|2022-09-04 13:17:22|      2022|          9|               4|              1|        13|          17|\n",
            "|12899919| 52|1488793|   1|2022-09-04 13:20:31|      2022|          9|               4|              1|        13|          20|\n",
            "|12899946| 22|1490773|   0|2022-08-28 22:04:54|      2022|          8|              28|              1|        22|           4|\n",
            "|12899950| 31| 560261|   1|2022-08-28 22:22:17|      2022|          8|              28|              1|        22|          22|\n",
            "|12900014|  4|1722760|   0|2022-08-28 22:02:59|      2022|          8|              28|              1|        22|           2|\n",
            "|12900016|  5|1102414|   0|2022-08-28 22:02:19|      2022|          8|              28|              1|        22|           2|\n",
            "|12900016| 31| 244618|   0|2022-08-29 10:24:25|      2022|          8|              29|              2|        10|          24|\n",
            "|12900021| 10|1587914|   0|2022-08-28 22:03:41|      2022|          8|              28|              1|        22|           3|\n",
            "|12900026|  0|1705606|   0|2022-08-28 22:01:07|      2022|          8|              28|              1|        22|           1|\n",
            "+--------+---+-------+----+-------------------+----------+-----------+----------------+---------------+----------+------------+\n",
            "only showing top 20 rows\n",
            "\n"
          ]
        }
      ],
      "source": [
        "sDF_test6 = sDF_test5.withColumn( 'ts_dt', F.to_timestamp(F.col('ts')) )\\\n",
        "        .withColumn( 'ts_dt_year', F.year('ts_dt') )\\\n",
        "        .withColumn( 'ts_dt_month', F.month('ts_dt') )\\\n",
        "        .withColumn( 'ts_dt_dayofmonth', F.dayofmonth('ts_dt') )\\\n",
        "        .withColumn( 'ts_dt_dayofweek', F.dayofweek('ts_dt') )\\\n",
        "        .withColumn( 'ts_dt_hour', F.hour('ts_dt') )\\\n",
        "        .withColumn( 'ts_dt_minute', F.minute('ts_dt') )\\\n",
        "        .drop(F.col('ts'))\n",
        "\n",
        "sDF_test6.show()"
      ]
    },
    {
      "cell_type": "code",
      "execution_count": 32,
      "metadata": {
        "colab": {
          "base_uri": "https://localhost:8080/"
        },
        "id": "TUdZg77AeX_H",
        "outputId": "b37bec0d-f193-4be2-8899-71adba4243cd"
      },
      "outputs": [
        {
          "output_type": "stream",
          "name": "stdout",
          "text": [
            "Train: min=2022-07-31 22:00:00, max=2022-08-28 22:00:00\n",
            "Test: min=2022-08-28 22:00:00, max=2022-09-04 21:59:52\n",
            "CPU times: user 96.5 ms, sys: 9.38 ms, total: 106 ms\n",
            "Wall time: 15.5 s\n"
          ]
        }
      ],
      "source": [
        "%%time\n",
        "\n",
        "train_ts_min = sDF_train6.select( F.min(F.col('ts_dt')) ).collect()[0][0]\n",
        "train_ts_max = sDF_train6.select( F.max(F.col('ts_dt')) ).collect()[0][0]\n",
        "print(f'Train: min={train_ts_min}, max={train_ts_max}')\n",
        "\n",
        "test_ts_min = sDF_test6.select( F.min(F.col('ts_dt')) ).collect()[0][0]\n",
        "test_ts_max = sDF_test6.select( F.max(F.col('ts_dt')) ).collect()[0][0]\n",
        "print(f'Test: min={test_ts_min}, max={test_ts_max}')\n"
      ]
    },
    {
      "cell_type": "code",
      "execution_count": 32,
      "metadata": {
        "id": "_Sa5kQjBeYDK"
      },
      "outputs": [],
      "source": []
    },
    {
      "cell_type": "code",
      "execution_count": 33,
      "metadata": {
        "colab": {
          "base_uri": "https://localhost:8080/"
        },
        "id": "Gx9RBguGiT9z",
        "outputId": "cdfc57f7-a5fd-4a13-c8d2-582981fa96c7"
      },
      "outputs": [
        {
          "output_type": "stream",
          "name": "stdout",
          "text": [
            "count aid's in Train: 1855603\n",
            "count aid's in Test: 783486\n",
            "count aid's in Test and not in Train: 0\n"
          ]
        }
      ],
      "source": [
        "aids_train_list = sDF_train5\\\n",
        "                    .groupBy('aid').agg(  F.countDistinct('session').alias('session_cnt') )\\\n",
        "                    .rdd.map(lambda x: x[0])\\\n",
        "                    .collect()\n",
        "                    \n",
        "aids_test_list = sDF_test5\\\n",
        "                    .groupBy('aid').agg(  F.countDistinct('session').alias('session_cnt') )\\\n",
        "                    .rdd.map(lambda x: x[0])\\\n",
        "                    .collect()\n",
        "\n",
        "print(\"\"\"count aid's in Train:\"\"\", len(aids_train_list) )\n",
        "print(\"\"\"count aid's in Test:\"\"\", len(aids_test_list) )\n",
        "print( \"\"\"count aid's in Test and not in Train:\"\"\"\n",
        "      , len( set(aids_test_list) - set(aids_train_list) ) )"
      ]
    },
    {
      "cell_type": "code",
      "execution_count": 33,
      "metadata": {
        "id": "Z5NaV1sVylug"
      },
      "outputs": [],
      "source": []
    },
    {
      "cell_type": "code",
      "execution_count": 34,
      "metadata": {
        "colab": {
          "base_uri": "https://localhost:8080/"
        },
        "id": "D46O0_AzylyZ",
        "outputId": "15284961-5e04-4c4d-d746-84277cbdba08"
      },
      "outputs": [
        {
          "output_type": "stream",
          "name": "stdout",
          "text": [
            "+-------+------------------+------------------+\n",
            "|summary|           session|           aid_cnt|\n",
            "+-------+------------------+------------------+\n",
            "|  count|          12899779|          12899779|\n",
            "|   mean|         6449889.0| 10.36326808389508|\n",
            "| stddev|3723845.5834059077|18.985134421368777|\n",
            "|    min|                 0|                 1|\n",
            "|    25%|           3224540|                 2|\n",
            "|    50%|           6449133|                 4|\n",
            "|    75%|           9674023|                10|\n",
            "|    max|          12899778|               486|\n",
            "+-------+------------------+------------------+\n",
            "\n",
            "+-------+------------------+------------------+\n",
            "|summary|           session|           aid_cnt|\n",
            "+-------+------------------+------------------+\n",
            "|  count|           1671803|           1671803|\n",
            "|   mean|        1.373568E7|2.9947051177680626|\n",
            "| stddev|482608.10037855775| 5.113723026815698|\n",
            "|    min|          12899779|                 1|\n",
            "|    25%|          13317656|                 1|\n",
            "|    50%|          13735556|                 1|\n",
            "|    75%|          14153506|                 3|\n",
            "|    max|          14571581|               433|\n",
            "+-------+------------------+------------------+\n",
            "\n"
          ]
        }
      ],
      "source": [
        "session_train = sDF_train5\\\n",
        "              .groupBy('session').agg(  F.countDistinct('aid').alias('aid_cnt') ) \\\n",
        "              .summary()\n",
        "              \n",
        "session_test = sDF_test5\\\n",
        "              .groupBy('session').agg(  F.countDistinct('aid').alias('aid_cnt') ) \\\n",
        "              .summary()\n",
        "\n",
        "session_train.show()\n",
        "session_test.show()"
      ]
    },
    {
      "cell_type": "code",
      "execution_count": 35,
      "metadata": {
        "colab": {
          "base_uri": "https://localhost:8080/"
        },
        "id": "BwkjHe6Q1toq",
        "outputId": "4068cb8e-ff17-451b-b8c3-d094484a4f8d"
      },
      "outputs": [
        {
          "output_type": "stream",
          "name": "stdout",
          "text": [
            "Train session_id between 0 and 12899778\n",
            "Test session_id between 12899779 and 14571581\n",
            "\n",
            "Train session_id not in Test session_id\n",
            "(Train + Test) session_id between 0 and 14571581\n"
          ]
        }
      ],
      "source": [
        "print('Train session_id between 0 and 12899778')\n",
        "print('Test session_id between 12899779 and 14571581')\n",
        "print()\n",
        "print('Train session_id not in Test session_id')\n",
        "print('(Train + Test) session_id between 0 and 14571581')"
      ]
    },
    {
      "cell_type": "markdown",
      "metadata": {
        "id": "eMLKKk8m59TR"
      },
      "source": [
        "# Save Final Data"
      ]
    },
    {
      "cell_type": "code",
      "execution_count": 36,
      "metadata": {
        "id": "PLDAWfbEzBNf",
        "colab": {
          "base_uri": "https://localhost:8080/"
        },
        "outputId": "f5249179-6d01-4483-9920-3dce82bd05fd"
      },
      "outputs": [
        {
          "output_type": "stream",
          "name": "stdout",
          "text": [
            "/content/drive/MyDrive/Colab Notebooks/Kaggle/sDF_train7.parquet\n",
            "+----+-------+---+-------+-----------+----------------+---------------+----------+------------+\n",
            "|type|session|pos|    aid|ts_dt_month|ts_dt_dayofmonth|ts_dt_dayofweek|ts_dt_hour|ts_dt_minute|\n",
            "+----+-------+---+-------+-----------+----------------+---------------+----------+------------+\n",
            "|   1|      0|  6|1649869|          8|               1|              2|        16|           4|\n",
            "|   0|      0|112|1443747|          8|              16|              3|         5|          40|\n",
            "|   1|      0|203| 974651|          8|              26|              6|        21|          45|\n",
            "|   0|      0|268| 543308|          8|              28|              1|        10|          23|\n",
            "|   0|      3| 16|1089061|          8|               1|              2|        21|          51|\n",
            "|   0|      6| 47|1479126|          8|               1|              2|        10|          33|\n",
            "|   0|      6| 73|1747070|          8|               1|              2|        11|          17|\n",
            "|   0|      6|100|  60590|          8|               1|              2|        22|           6|\n",
            "|   0|      7|  4|1727444|          7|              31|              1|        22|           1|\n",
            "|   0|     14| 15| 354050|          7|              31|              1|        22|          20|\n",
            "|   0|     14| 84| 588838|          8|               3|              4|        13|           3|\n",
            "|   0|     14|180| 311992|          8|               3|              4|        23|          11|\n",
            "|   0|     14|349| 494715|          8|              20|              7|        19|          58|\n",
            "|   0|     19| 91|1312778|          8|               4|              5|        20|          47|\n",
            "|   1|     21| 21| 482707|          7|              31|              1|        22|          54|\n",
            "|   0|     21|204| 484647|          8|               5|              6|        14|          18|\n",
            "|   0|     21|305|1781373|          8|              14|              1|        14|          22|\n",
            "|   0|     21|312|1842105|          8|              15|              2|        12|          35|\n",
            "|   0|     21|363| 927708|          8|              17|              4|        19|          12|\n",
            "|   1|     23|  8| 826995|          8|               7|              1|         3|          15|\n",
            "+----+-------+---+-------+-----------+----------------+---------------+----------+------------+\n",
            "only showing top 20 rows\n",
            "\n",
            "CPU times: user 1.46 s, sys: 214 ms, total: 1.68 s\n",
            "Wall time: 5min 2s\n"
          ]
        }
      ],
      "source": [
        "%%time\n",
        "\n",
        "sDF_train7 = SaveReadParquet( sDF_train6.select(['type',\n",
        "                          'session',\n",
        "                          'pos',\n",
        "                          'aid',\n",
        "                          #'ts',\n",
        "                          #'ts_dt',\n",
        "                          #'ts_dt_year',\n",
        "                          'ts_dt_month',\n",
        "                          'ts_dt_dayofmonth',\n",
        "                          'ts_dt_dayofweek',\n",
        "                          'ts_dt_hour',\n",
        "                          'ts_dt_minute'])\n",
        "                    , f_name = 'sDF_train7'\n",
        "                    , my_dir = '/content/drive/MyDrive/Colab Notebooks/Kaggle/'\n",
        "                    )\n",
        "\n",
        "sDF_train7.show()"
      ]
    },
    {
      "cell_type": "code",
      "execution_count": 37,
      "metadata": {
        "id": "mEJyUbI1ukrL",
        "colab": {
          "base_uri": "https://localhost:8080/"
        },
        "outputId": "8d0eccfd-2f78-480a-d7e7-8d6a209ad3a4"
      },
      "outputs": [
        {
          "output_type": "stream",
          "name": "stdout",
          "text": [
            "/content/drive/MyDrive/Colab Notebooks/Kaggle/sDF_test7.parquet\n",
            "+----+--------+---+-------+-----------+----------------+---------------+----------+------------+\n",
            "|type| session|pos|    aid|ts_dt_month|ts_dt_dayofmonth|ts_dt_dayofweek|ts_dt_hour|ts_dt_minute|\n",
            "+----+--------+---+-------+-----------+----------------+---------------+----------+------------+\n",
            "|   0|12899789|  1| 631398|          8|              28|              1|        22|           3|\n",
            "|   0|12899791|  3|1365651|          8|              28|              1|        22|           1|\n",
            "|   0|12899793|  2|1792644|          8|              28|              1|        22|           0|\n",
            "|   0|12899832|  8|1509329|          8|              28|              1|        22|          11|\n",
            "|   0|12899842|  0|  46318|          8|              28|              1|        22|           0|\n",
            "|   0|12899850| 98|1004556|          8|              29|              2|        16|          45|\n",
            "|   0|12899852| 19| 701401|          8|              28|              1|        23|          53|\n",
            "|   0|12899852|112|  90712|          8|              29|              2|        22|          16|\n",
            "|   2|12899860|  4|1293588|          8|              29|              2|        12|          34|\n",
            "|   1|12899906| 13| 938051|          8|              28|              1|        22|           8|\n",
            "|   1|12899907| 20| 443295|          8|              28|              1|        22|          22|\n",
            "|   0|12899919| 48|1637761|          9|               4|              1|        13|          17|\n",
            "|   1|12899919| 52|1488793|          9|               4|              1|        13|          20|\n",
            "|   0|12899946| 22|1490773|          8|              28|              1|        22|           4|\n",
            "|   1|12899950| 31| 560261|          8|              28|              1|        22|          22|\n",
            "|   0|12900014|  4|1722760|          8|              28|              1|        22|           2|\n",
            "|   0|12900016|  5|1102414|          8|              28|              1|        22|           2|\n",
            "|   0|12900016| 31| 244618|          8|              29|              2|        10|          24|\n",
            "|   0|12900021| 10|1587914|          8|              28|              1|        22|           3|\n",
            "|   0|12900026|  0|1705606|          8|              28|              1|        22|           1|\n",
            "+----+--------+---+-------+-----------+----------------+---------------+----------+------------+\n",
            "only showing top 20 rows\n",
            "\n",
            "CPU times: user 59.6 ms, sys: 14.7 ms, total: 74.3 ms\n",
            "Wall time: 11.2 s\n"
          ]
        }
      ],
      "source": [
        "%%time\n",
        "\n",
        "sDF_test7  = SaveReadParquet( sDF_test6.select(['type',\n",
        "                          'session',\n",
        "                          'pos',\n",
        "                          'aid',\n",
        "                          #'ts',\n",
        "                          #'ts_dt',\n",
        "                          #'ts_dt_year',\n",
        "                          'ts_dt_month',\n",
        "                          'ts_dt_dayofmonth',\n",
        "                          'ts_dt_dayofweek',\n",
        "                          'ts_dt_hour',\n",
        "                          'ts_dt_minute'])\n",
        "                    , f_name = 'sDF_test7'\n",
        "                    , my_dir = '/content/drive/MyDrive/Colab Notebooks/Kaggle/'\n",
        "                    )\n",
        "\n",
        "sDF_test7.show()"
      ]
    },
    {
      "cell_type": "code",
      "execution_count": null,
      "metadata": {
        "id": "oOxOxNimuXk4"
      },
      "outputs": [],
      "source": []
    },
    {
      "cell_type": "code",
      "execution_count": null,
      "metadata": {
        "id": "C3c4rK9quXpT"
      },
      "outputs": [],
      "source": [
        "# %%time\n",
        "\n",
        "# # my_dir = '/content/drive/MyDrive/Colab Notebooks/Kaggle/'\n",
        "# my_dir = '/content/'\n",
        "\n",
        "# sDF_train7 = spark.read.parquet( my_dir + 'sDF_train7.parquet' )\n",
        "# sDF_test7 = spark.read.parquet( my_dir + 'sDF_test7.parquet' )\n",
        "\n",
        "# sDF_train7.show()\n",
        "# sDF_test7.show()"
      ]
    },
    {
      "cell_type": "code",
      "execution_count": null,
      "metadata": {
        "colab": {
          "background_save": true
        },
        "id": "0MM66IH_wDXm"
      },
      "outputs": [],
      "source": []
    },
    {
      "cell_type": "code",
      "execution_count": null,
      "metadata": {
        "colab": {
          "background_save": true
        },
        "id": "DCDuW1gSwDZ7"
      },
      "outputs": [],
      "source": []
    },
    {
      "cell_type": "code",
      "execution_count": null,
      "metadata": {
        "id": "q4HgFN9wy7d_"
      },
      "outputs": [],
      "source": []
    },
    {
      "cell_type": "code",
      "execution_count": null,
      "metadata": {
        "id": "5Nyi-pu7vUHb"
      },
      "outputs": [],
      "source": []
    },
    {
      "cell_type": "code",
      "execution_count": null,
      "metadata": {
        "id": "h0J-6BkcqhET"
      },
      "outputs": [],
      "source": []
    }
  ],
  "metadata": {
    "colab": {
      "provenance": [],
      "collapsed_sections": [
        "i6scAdDRtCAe"
      ],
      "mount_file_id": "1ORR7bRfVTQ14QGy-FhmHAy9mg7xeOsMa",
      "authorship_tag": "ABX9TyOLcx8f/4QUYYB0DQmHrkeE",
      "include_colab_link": true
    },
    "kernelspec": {
      "display_name": "Python 3",
      "name": "python3"
    },
    "language_info": {
      "name": "python"
    }
  },
  "nbformat": 4,
  "nbformat_minor": 0
}