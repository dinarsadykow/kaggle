{
  "cells": [
    {
      "cell_type": "markdown",
      "metadata": {
        "id": "view-in-github",
        "colab_type": "text"
      },
      "source": [
        "<a href=\"https://colab.research.google.com/github/dinarsadykow/kaggle/blob/main/kaggle_OTTO.ipynb\" target=\"_parent\"><img src=\"https://colab.research.google.com/assets/colab-badge.svg\" alt=\"Open In Colab\"/></a>"
      ]
    },
    {
      "cell_type": "markdown",
      "metadata": {
        "id": "99tBbzAt1HNU"
      },
      "source": [
        "# OTTO – Multi-Objective Recommender System\n",
        "https://www.kaggle.com/competitions/otto-recommender-system/data"
      ]
    },
    {
      "cell_type": "code",
      "execution_count": null,
      "metadata": {
        "id": "XudeYzl5117x"
      },
      "outputs": [],
      "source": [
        "# # ------------------------------------------------------\n",
        "# # Kaggle Download Data\n",
        "\n",
        "# import json\n",
        "\n",
        "# !mkdir ~/.kaggle\n",
        "# !touch ~/.kaggle/kaggle.json\n",
        "\n",
        "# # api_token = {\"username\":\"123\",\"key\":\"456\"}\n",
        "# api_token = json.load( open('/content/drive/MyDrive/kaggle.json','r') )\n",
        "\n",
        "# with open('/root/.kaggle/kaggle.json', 'w') as file:\n",
        "#     json.dump(api_token, file)\n",
        "\n",
        "# !chmod 600 ~/.kaggle/kaggle.json\n",
        "\n",
        "# !kaggle competitions download -c otto-recommender-system\n",
        "# !unzip /content/otto-recommender-system.zip\n",
        "\n",
        "# # ------------------------------------------------------\n",
        "# # pySpark Tutorial from https://towardsdatascience.com/pyspark-on-google-colab-101-d31830b238be\n",
        "\n",
        "# !apt-get install openjdk-11-jdk-headless -qq > /dev/null\n",
        "# !wget -q https://archive.apache.org/dist/spark/spark-3.1.2/spark-3.1.2-bin-hadoop2.7.tgz\n",
        "# !tar xf spark-3.1.2-bin-hadoop2.7.tgz\n",
        "# !pip install -q findspark\n",
        "\n",
        "# !pip install pickle5\n",
        "# !pip install pyspark_dist_explore"
      ]
    },
    {
      "cell_type": "code",
      "execution_count": null,
      "metadata": {
        "id": "s4wdIn0Mz76e"
      },
      "outputs": [],
      "source": []
    },
    {
      "cell_type": "code",
      "execution_count": null,
      "metadata": {
        "id": "c5ElN1ix1DYB"
      },
      "outputs": [],
      "source": [
        "import os\n",
        "os.environ[\"JAVA_HOME\"] = \"/usr/lib/jvm/java-11-openjdk-amd64\"\n",
        "os.environ[\"SPARK_HOME\"] = \"/content/spark-3.1.2-bin-hadoop2.7\"\n",
        "os.environ[\"PYSPARK_SUBMIT_ARGS\"]='--num-executors 4 --executor-memory 4g --driver-memory 3g pyspark-shell'\n",
        "\n",
        "import findspark\n",
        "findspark.init()\n",
        "\n",
        "from pyspark.sql import SparkSession\n",
        "from pyspark.sql.types import StructType, StructField, IntegerType, LongType\n",
        "\n",
        "spark = (\n",
        "      SparkSession.builder\\\n",
        "        .master(\"local\")\\\n",
        "        .appName(\"sdr\")\\\n",
        "        .config('spark.ui.port', '4050')\\\n",
        "        .config(\"spark.driver.maxResultSize\", \"4g\")\\\n",
        "        #.config(\"spark.sql.crossJoin.enabled\", \"true\")\\\n",
        "        .getOrCreate()\n",
        "      )"
      ]
    },
    {
      "cell_type": "code",
      "execution_count": null,
      "metadata": {
        "id": "h6ReRiq-2yUf"
      },
      "outputs": [],
      "source": [
        "from pyspark.ml.feature import Tokenizer, HashingTF, IDF\n",
        "\n",
        "from pyspark.ml import Pipeline\n",
        "import pyspark.sql.functions as F\n",
        "import pyspark.sql.types as T\n",
        "\n",
        "from pyspark.ml.linalg import DenseVector\n",
        "from pyspark.ml.linalg import Vectors\n",
        "from pyspark.ml.linalg import VectorUDT\n",
        "\n",
        "from pyspark.ml.feature import StringIndexer\n",
        "from pyspark.ml.feature import OneHotEncoder\n",
        "from pyspark.ml.feature import CountVectorizer\n",
        "from pyspark.ml.feature import VectorAssembler\n",
        "from pyspark.ml import Pipeline\n",
        "from pyspark.ml.evaluation import BinaryClassificationEvaluator\n",
        "from pyspark.ml.classification import LogisticRegression\n",
        "from pyspark.ml.classification import RandomForestClassifier\n",
        "from pyspark.ml.classification import GBTClassifier\n",
        "\n",
        "import gc\n",
        "import re\n",
        "from datetime import datetime\n",
        "\n",
        "import pickle5 as pickle\n",
        "import json\n",
        "\n",
        "from pyspark_dist_explore import hist\n",
        "import matplotlib.pyplot as plt"
      ]
    },
    {
      "cell_type": "code",
      "execution_count": null,
      "metadata": {
        "id": "l4tpp3GtDWEC"
      },
      "outputs": [],
      "source": [
        "def SaveReadParquet( sparkDF_input\n",
        "                    , f_name = 'sDF_example_name'\n",
        "                    #, my_dir = '/content/drive/MyDrive/Colab Notebooks/Kaggle/' \n",
        "                    , my_dir = '/content/'\n",
        "                    ):\n",
        "    write_name = f'{my_dir}{f_name}.parquet'\n",
        "    sparkDF_input.write.mode('overwrite').parquet( write_name )\n",
        "    print( write_name )\n",
        "    return spark.read.parquet( write_name )"
      ]
    },
    {
      "cell_type": "markdown",
      "metadata": {
        "id": "XDI9-zKQm93V"
      },
      "source": [
        "# Files\n",
        "\n",
        "### - train.jsonl - the training data, which contains full session data\n",
        "\n",
        "- session - the unique session id\n",
        "- events - the time ordered sequence of events in the session\n",
        "-- aid - the article id (product code) of the associated event\n",
        "-- ts - the Unix timestamp of the event\n",
        "-- type - the event type, i.e., whether a product was clicked, added to the user's cart, or ordered during the session\n",
        "\n",
        "\n",
        "### - test.jsonl - the test data, which contains truncated session data\n",
        "your task is to predict the next aid clicked after the session truncation, as well as the the remaining aids that are added to carts and orders; you may predict up to 20 values for each \n",
        "session type\n",
        "\n",
        "\n",
        "### - sample_submission.csv - a sample submission file in the correct format"
      ]
    },
    {
      "cell_type": "markdown",
      "metadata": {
        "id": "-kKn-mvxtJRR"
      },
      "source": [
        "# Load Train Data"
      ]
    },
    {
      "cell_type": "code",
      "execution_count": null,
      "metadata": {
        "colab": {
          "base_uri": "https://localhost:8080/"
        },
        "id": "5zNLcwym2yXS",
        "outputId": "41e51f5f-17b0-40c1-c44a-c48d3d6cf66f"
      },
      "outputs": [
        {
          "name": "stdout",
          "output_type": "stream",
          "text": [
            "root\n",
            " |-- session: long (nullable = true)\n",
            " |-- aid: array (nullable = true)\n",
            " |    |-- element: long (containsNull = true)\n",
            " |-- ts: array (nullable = true)\n",
            " |    |-- element: long (containsNull = true)\n",
            " |-- type: array (nullable = true)\n",
            " |    |-- element: string (containsNull = true)\n",
            "\n",
            "+-------+--------------------+--------------------+--------------------+\n",
            "|session|                 aid|                  ts|                type|\n",
            "+-------+--------------------+--------------------+--------------------+\n",
            "|      0|[1517085, 1563459...|[1659304800025, 1...|[clicks, clicks, ...|\n",
            "|      1|[424964, 1492293,...|[1659304800025, 1...|[carts, clicks, c...|\n",
            "|      2|[763743, 137492, ...|[1659304800038, 1...|[clicks, clicks, ...|\n",
            "|      3|[1425967, 1425967...|[1659304800095, 1...|[carts, clicks, c...|\n",
            "|      4|[613619, 298827, ...|[1659304800119, 1...|[clicks, clicks, ...|\n",
            "|      5|[1098089, 1354785...|[1659304800133, 1...|[clicks, clicks, ...|\n",
            "|      6|[137164, 956148, ...|[1659304800134, 1...|[clicks, clicks, ...|\n",
            "|      7|[87774, 1241611, ...|[1659304800134, 1...|[clicks, clicks, ...|\n",
            "|      8|[1814223, 324620,...|[1659304800136, 1...|[clicks, clicks, ...|\n",
            "|      9|[847707, 847707, ...|[1659304800144, 1...|[clicks, carts, c...|\n",
            "|     10|[271630, 967918, ...|[1659304800151, 1...|[clicks, clicks, ...|\n",
            "|     11|[1110510, 1110510...|[1659304800172, 1...|[clicks, clicks, ...|\n",
            "|     12|[832890, 832890, ...|[1659304800200, 1...|[clicks, carts, o...|\n",
            "|     13|[1674493, 1674493...|[1659304800201, 1...|[clicks, clicks, ...|\n",
            "|     14|[414349, 414349, ...|[1659304800234, 1...|[clicks, carts, c...|\n",
            "|     15|[1464271, 1464271...|[1659304800257, 1...|[clicks, carts, c...|\n",
            "|     16|[1143723, 1003508...|[1659304800274, 1...|[carts, clicks, c...|\n",
            "|     17|[120548, 1842471,...|[1659304800325, 1...|[clicks, clicks, ...|\n",
            "|     18|[841121, 1688963,...|[1659304800326, 1...|[clicks, clicks, ...|\n",
            "|     19|[1248752, 1446002...|[1659304800333, 1...|[clicks, clicks, ...|\n",
            "+-------+--------------------+--------------------+--------------------+\n",
            "only showing top 20 rows\n",
            "\n"
          ]
        }
      ],
      "source": [
        "sDF_train = spark.read.json( 'train.jsonl' )\n",
        "sDF_train = ( sDF_train.select(\n",
        "                        'session' \n",
        "                        , 'events.aid'\n",
        "                        , 'events.ts'\n",
        "                        , 'events.type'\n",
        "                      )\n",
        "              )\n",
        "\n",
        "sDF_train.printSchema()\n",
        "sDF_train.show()"
      ]
    },
    {
      "cell_type": "code",
      "execution_count": null,
      "metadata": {
        "colab": {
          "base_uri": "https://localhost:8080/"
        },
        "id": "qXm-gP66SOQs",
        "outputId": "c021aebf-c36e-4a1e-b719-3407336dad3c"
      },
      "outputs": [
        {
          "name": "stdout",
          "output_type": "stream",
          "text": [
            "CPU times: user 6.84 ms, sys: 0 ns, total: 6.84 ms\n",
            "Wall time: 73 ms\n"
          ]
        }
      ],
      "source": [
        "%%time\n",
        "\n",
        "sDF_train2 = sDF_train\\\n",
        "    .select( 'session' , F.posexplode('aid') ) \\\n",
        "    .withColumnRenamed('col','aid')\n",
        "    \n",
        "# sDF_train2.show()"
      ]
    },
    {
      "cell_type": "code",
      "execution_count": null,
      "metadata": {
        "colab": {
          "background_save": true,
          "base_uri": "https://localhost:8080/"
        },
        "id": "mZQKaJjke1a3",
        "outputId": "6a64f334-d6e4-409a-d0fc-1a590b0194cf"
      },
      "outputs": [
        {
          "name": "stdout",
          "output_type": "stream",
          "text": [
            "/content/sDF_train2.parquet\n",
            "CPU times: user 2.23 s, sys: 263 ms, total: 2.5 s\n",
            "Wall time: 7min 16s\n"
          ]
        }
      ],
      "source": [
        "%%time\n",
        "\n",
        "sDF_train2 = SaveReadParquet(sDF_train2,'sDF_train2')"
      ]
    },
    {
      "cell_type": "code",
      "execution_count": null,
      "metadata": {
        "colab": {
          "background_save": true,
          "base_uri": "https://localhost:8080/"
        },
        "id": "Vzc8G4K_SRG-",
        "outputId": "63809fcf-0c27-45a6-9d36-e04ea9f6d845"
      },
      "outputs": [
        {
          "name": "stdout",
          "output_type": "stream",
          "text": [
            "CPU times: user 8.16 ms, sys: 509 µs, total: 8.67 ms\n",
            "Wall time: 238 ms\n"
          ]
        }
      ],
      "source": [
        "%%time\n",
        "\n",
        "sDF_train3 = sDF_train\\\n",
        "    .select( 'session' , F.posexplode('ts') ) \\\n",
        "    .withColumnRenamed('col','ts') \\\n",
        "    .withColumn('ts', F.col('ts') / F.lit(1000) ) \\\n",
        "    .withColumn('ts', F.round( F.col('ts') ) )\n",
        "\n",
        "# sDF_train3.printSchema()"
      ]
    },
    {
      "cell_type": "code",
      "execution_count": null,
      "metadata": {
        "colab": {
          "background_save": true
        },
        "id": "FknoDE1-fDhz",
        "outputId": "136ac839-f30c-40b4-a7af-9995ddf43362"
      },
      "outputs": [
        {
          "name": "stdout",
          "output_type": "stream",
          "text": [
            "/content/sDF_train3.parquet\n",
            "CPU times: user 1.56 s, sys: 197 ms, total: 1.76 s\n",
            "Wall time: 8min 49s\n"
          ]
        }
      ],
      "source": [
        "%%time\n",
        "\n",
        "sDF_train3 = SaveReadParquet(sDF_train3,'sDF_train3')"
      ]
    },
    {
      "cell_type": "code",
      "execution_count": null,
      "metadata": {
        "colab": {
          "background_save": true
        },
        "id": "wLPCY_rYSJB1"
      },
      "outputs": [],
      "source": [
        "type_labels_dic = {'clicks':0, 'carts':1, 'orders':2}\n",
        "\n",
        "@F.udf( T.StringType() )\n",
        "def type_labels(x):\n",
        "    return type_labels_dic[x]\n",
        "\n",
        "sDF_train4 = sDF_train\\\n",
        "    .select( 'session' , F.posexplode('type') ) \\\n",
        "    .withColumnRenamed( 'col', 'type' ) \\\n",
        "    .withColumn( 'type', type_labels(F.col('type') ) )\n",
        "\n",
        "# sDF_train4.show()"
      ]
    },
    {
      "cell_type": "code",
      "execution_count": null,
      "metadata": {
        "colab": {
          "background_save": true
        },
        "id": "gcNuuc6se8Wi",
        "outputId": "94bbad27-5c4f-4a8d-8eed-cdb2d7b8cd85"
      },
      "outputs": [
        {
          "name": "stdout",
          "output_type": "stream",
          "text": [
            "/content/sDF_train4.parquet\n",
            "CPU times: user 2.75 s, sys: 332 ms, total: 3.08 s\n",
            "Wall time: 16min 31s\n"
          ]
        }
      ],
      "source": [
        "%%time\n",
        "\n",
        "sDF_train4 = SaveReadParquet(sDF_train4,'sDF_train4')"
      ]
    },
    {
      "cell_type": "code",
      "execution_count": null,
      "metadata": {
        "colab": {
          "background_save": true
        },
        "id": "lOUIQTTfJDNh",
        "outputId": "d28573f4-8135-4917-8ca4-a91fdeef15fe"
      },
      "outputs": [
        {
          "name": "stdout",
          "output_type": "stream",
          "text": [
            "CPU times: user 3.68 ms, sys: 0 ns, total: 3.68 ms\n",
            "Wall time: 90.7 ms\n"
          ]
        }
      ],
      "source": [
        "%%time\n",
        "\n",
        "sDF_train5 = sDF_train2 \\\n",
        "    .join( sDF_train3, on=['session','pos'],how='inner') \\\n",
        "    .join( sDF_train4, on=['session','pos'],how='inner') \n",
        "\n",
        "# sDF_train5.printSchema()"
      ]
    },
    {
      "cell_type": "code",
      "execution_count": null,
      "metadata": {
        "colab": {
          "base_uri": "https://localhost:8080/"
        },
        "id": "04CAxWhL2P1M",
        "outputId": "a2780437-a539-4c77-b4b3-1ee4928950a6"
      },
      "outputs": [
        {
          "name": "stdout",
          "output_type": "stream",
          "text": [
            "/content/sDF_train5.parquet\n",
            "/content/drive/MyDrive/Colab Notebooks/Kaggle/sDF_train5.parquet\n",
            "+-------+---+-------+-------------+----+\n",
            "|session|pos|    aid|           ts|type|\n",
            "+-------+---+-------+-------------+----+\n",
            "|      0|  6|1649869|1.659369894E9|   1|\n",
            "|      0|112|1443747|1.660628405E9|   0|\n",
            "|      0|203| 974651|1.661550342E9|   1|\n",
            "|      0|268| 543308|1.661682228E9|   0|\n",
            "|      3| 16|1089061| 1.65939068E9|   0|\n",
            "|      6| 47|1479126|    1.65935E9|   0|\n",
            "|      6| 73|1747070|1.659352644E9|   0|\n",
            "|      6|100|  60590|1.659391566E9|   0|\n",
            "|      7|  4|1727444|1.659304888E9|   0|\n",
            "|     14| 15| 354050|1.659306059E9|   0|\n",
            "|     14| 84| 588838|1.659531835E9|   0|\n",
            "|     14|180| 311992|1.659568261E9|   0|\n",
            "|     14|349| 494715|1.661025531E9|   0|\n",
            "|     19| 91|1312778|1.659646045E9|   0|\n",
            "|     21| 21| 482707|1.659308077E9|   1|\n",
            "|     21|204| 484647|1.659709127E9|   0|\n",
            "|     21|305|1781373|1.660486968E9|   0|\n",
            "|     21|312|1842105|1.660566916E9|   0|\n",
            "|     21|363| 927708| 1.66076356E9|   0|\n",
            "|     23|  8| 826995|1.659842156E9|   1|\n",
            "+-------+---+-------+-------------+----+\n",
            "only showing top 20 rows\n",
            "\n",
            "CPU times: user 3.39 s, sys: 396 ms, total: 3.79 s\n",
            "Wall time: 19min 4s\n"
          ]
        }
      ],
      "source": [
        "%%time\n",
        "    \n",
        "sDF_train5 = SaveReadParquet( sDF_train5, 'sDF_train5' )\n",
        "    \n",
        "sDF_train5 = SaveReadParquet( sDF_train5\n",
        "                        , 'sDF_train5'\n",
        "                        , my_dir = '/content/drive/MyDrive/Colab Notebooks/Kaggle/'  )\n",
        "\n",
        "sDF_train5.count()\n",
        "sDF_train5.show()"
      ]
    },
    {
      "cell_type": "code",
      "execution_count": null,
      "metadata": {
        "id": "gU52LYnjn1VH"
      },
      "outputs": [],
      "source": []
    },
    {
      "cell_type": "markdown",
      "metadata": {
        "id": "cYUTMXEItFVk"
      },
      "source": [
        "# Load Test Data"
      ]
    },
    {
      "cell_type": "code",
      "execution_count": null,
      "metadata": {
        "colab": {
          "base_uri": "https://localhost:8080/"
        },
        "id": "8W1W63D7Jy-g",
        "outputId": "d0dc3f87-0fe0-49f3-fbca-c4195ff87300"
      },
      "outputs": [
        {
          "name": "stdout",
          "output_type": "stream",
          "text": [
            "root\n",
            " |-- session: long (nullable = true)\n",
            " |-- aid: array (nullable = true)\n",
            " |    |-- element: long (containsNull = true)\n",
            " |-- ts: array (nullable = true)\n",
            " |    |-- element: long (containsNull = true)\n",
            " |-- type: array (nullable = true)\n",
            " |    |-- element: string (containsNull = true)\n",
            "\n",
            "+--------+--------------------+--------------------+--------------------+\n",
            "| session|                 aid|                  ts|                type|\n",
            "+--------+--------------------+--------------------+--------------------+\n",
            "|12899779|             [59625]|     [1661724000278]|            [clicks]|\n",
            "|12899780|[1142000, 582732,...|[1661724000378, 1...|[clicks, clicks, ...|\n",
            "|12899781|[141736, 199008, ...|[1661724000559, 1...|[clicks, clicks, ...|\n",
            "|12899782|[1669402, 1494780...|[1661724000568, 1...|[clicks, clicks, ...|\n",
            "|12899783|[255297, 1114789,...|[1661724000572, 1...|[clicks, clicks, ...|\n",
            "|12899784|[1036375, 1269952...|[1661724000604, 1...|[clicks, clicks, ...|\n",
            "|12899785|[1784451, 1169631...|[1661724000809, 1...|[clicks, clicks, ...|\n",
            "|12899786|    [955252, 955252]|[1661724001174, 1...|     [clicks, carts]|\n",
            "|12899787|[1682750, 1682750...|[1661724001617, 1...|[clicks, carts, c...|\n",
            "|12899788|[245131, 39846, 1...|[1661724001619, 1...|[clicks, clicks, ...|\n",
            "|12899789|[525156, 631398, ...|[1661724002025, 1...|[clicks, clicks, ...|\n",
            "|12899790|[1219653, 1830166...|[1661724002843, 1...|[carts, clicks, c...|\n",
            "|12899791|[915175, 915175, ...|[1661724002984, 1...|[clicks, clicks, ...|\n",
            "|12899792|[1537160, 1537160...|[1661724003149, 1...|[clicks, clicks, ...|\n",
            "|12899793|[1181781, 1585431...|[1661724003444, 1...|[clicks, clicks, ...|\n",
            "|12899794|  [1746099, 1242729]|[1661724003737, 1...|    [clicks, clicks]|\n",
            "|12899795|    [207754, 641250]|[1661724003946, 1...|    [clicks, clicks]|\n",
            "|12899796|              [4503]|     [1661724004002]|            [clicks]|\n",
            "|12899797|   [1335784, 156020]|[1661724004003, 1...|    [clicks, clicks]|\n",
            "|12899798|[379440, 1441157,...|[1661724004013, 1...|[clicks, clicks, ...|\n",
            "+--------+--------------------+--------------------+--------------------+\n",
            "only showing top 20 rows\n",
            "\n"
          ]
        }
      ],
      "source": [
        "sDF_test = spark.read.json( 'test.jsonl' )\n",
        "sDF_test = ( sDF_test.select(\n",
        "                        'session' \n",
        "                        , 'events.aid'\n",
        "                        , 'events.ts'\n",
        "                        , 'events.type'\n",
        "                      )\n",
        "              )\n",
        "\n",
        "sDF_test.printSchema()\n",
        "sDF_test.show()"
      ]
    },
    {
      "cell_type": "code",
      "execution_count": null,
      "metadata": {
        "colab": {
          "base_uri": "https://localhost:8080/"
        },
        "id": "3hdWiPgJogpy",
        "outputId": "f2aef11d-0c53-4e7b-c63b-f6f31fa33c66"
      },
      "outputs": [
        {
          "name": "stdout",
          "output_type": "stream",
          "text": [
            "CPU times: user 6.79 ms, sys: 0 ns, total: 6.79 ms\n",
            "Wall time: 46 ms\n"
          ]
        }
      ],
      "source": [
        "%%time\n",
        "\n",
        "sDF_test2 = sDF_test\\\n",
        "    .select( 'session' , F.posexplode('aid') ) \\\n",
        "    .withColumnRenamed('col','aid')\n",
        "    \n",
        "# sDF_test2.show()"
      ]
    },
    {
      "cell_type": "code",
      "execution_count": null,
      "metadata": {
        "colab": {
          "base_uri": "https://localhost:8080/"
        },
        "id": "TdM9aB-uo7H8",
        "outputId": "2325ea47-693a-4ffd-be64-a047ea8a91a5"
      },
      "outputs": [
        {
          "name": "stdout",
          "output_type": "stream",
          "text": [
            "/content/sDF_test2.parquet\n",
            "CPU times: user 53.6 ms, sys: 6.23 ms, total: 59.8 ms\n",
            "Wall time: 17.4 s\n"
          ]
        }
      ],
      "source": [
        "%%time\n",
        "    \n",
        "sDF_test2 = SaveReadParquet( sDF_test2, 'sDF_test2' )"
      ]
    },
    {
      "cell_type": "code",
      "execution_count": null,
      "metadata": {
        "colab": {
          "base_uri": "https://localhost:8080/"
        },
        "id": "0uFXRgPmogsd",
        "outputId": "f8d0c595-3d8b-4429-eabb-b78a48d9d0e6"
      },
      "outputs": [
        {
          "name": "stdout",
          "output_type": "stream",
          "text": [
            "CPU times: user 8.74 ms, sys: 0 ns, total: 8.74 ms\n",
            "Wall time: 62.9 ms\n"
          ]
        }
      ],
      "source": [
        "%%time\n",
        "\n",
        "sDF_test3 = sDF_test\\\n",
        "    .select( 'session' , F.posexplode('ts') ) \\\n",
        "    .withColumnRenamed('col','ts') \\\n",
        "    .withColumn('ts', F.col('ts') / F.lit(1000) ) \\\n",
        "    .withColumn('ts', F.round( F.col('ts') ) )\n",
        "\n",
        "# sDF_test3.printSchema()"
      ]
    },
    {
      "cell_type": "code",
      "execution_count": null,
      "metadata": {
        "colab": {
          "base_uri": "https://localhost:8080/"
        },
        "id": "VGLVOO75o73N",
        "outputId": "c6bdc785-4ef5-4add-cf1c-a68128f6c15f"
      },
      "outputs": [
        {
          "name": "stdout",
          "output_type": "stream",
          "text": [
            "/content/sDF_test3.parquet\n",
            "CPU times: user 58.3 ms, sys: 12.8 ms, total: 71.1 ms\n",
            "Wall time: 19.6 s\n"
          ]
        }
      ],
      "source": [
        "%%time\n",
        "    \n",
        "sDF_test3 = SaveReadParquet( sDF_test3, 'sDF_test3' )"
      ]
    },
    {
      "cell_type": "code",
      "execution_count": null,
      "metadata": {
        "id": "ecuVfuFyogur"
      },
      "outputs": [],
      "source": [
        "type_labels_dic = {'clicks':0, 'carts':1, 'orders':2}\n",
        "\n",
        "@F.udf( T.StringType() )\n",
        "def type_labels(x):\n",
        "    return type_labels_dic[x]\n",
        "\n",
        "sDF_test4 = sDF_test\\\n",
        "    .select( 'session' , F.posexplode('type') ) \\\n",
        "    .withColumnRenamed( 'col', 'type' ) \\\n",
        "    .withColumn( 'type', type_labels(F.col('type') ) )\n",
        "\n",
        "# sDF_test4.show()"
      ]
    },
    {
      "cell_type": "code",
      "execution_count": null,
      "metadata": {
        "colab": {
          "base_uri": "https://localhost:8080/"
        },
        "id": "O-YIAGUQo8rX",
        "outputId": "f2de014c-a8bd-433e-9875-d5bda2dda92a"
      },
      "outputs": [
        {
          "name": "stdout",
          "output_type": "stream",
          "text": [
            "/content/sDF_test4.parquet\n",
            "CPU times: user 96.1 ms, sys: 15.3 ms, total: 111 ms\n",
            "Wall time: 33.7 s\n"
          ]
        }
      ],
      "source": [
        "%%time\n",
        "    \n",
        "sDF_test4 = SaveReadParquet( sDF_test4, 'sDF_test4' )"
      ]
    },
    {
      "cell_type": "code",
      "execution_count": null,
      "metadata": {
        "colab": {
          "base_uri": "https://localhost:8080/"
        },
        "id": "UmjrF6bLogxc",
        "outputId": "55a23964-32f6-4aa0-c1e4-49d6b2b4e87c"
      },
      "outputs": [
        {
          "name": "stdout",
          "output_type": "stream",
          "text": [
            "CPU times: user 3.74 ms, sys: 2.2 ms, total: 5.94 ms\n",
            "Wall time: 41.3 ms\n"
          ]
        }
      ],
      "source": [
        "%%time\n",
        "\n",
        "sDF_test5 = sDF_test2 \\\n",
        "    .join( sDF_test3, on=['session','pos'],how='inner') \\\n",
        "    .join( sDF_test4, on=['session','pos'],how='inner') \n",
        "\n",
        "# sDF_test5.printSchema()"
      ]
    },
    {
      "cell_type": "code",
      "execution_count": null,
      "metadata": {
        "colab": {
          "background_save": true
        },
        "id": "Ks2iHLbWog2u",
        "outputId": "1dd0f233-17e3-4166-854f-3fc2d7f17fd3"
      },
      "outputs": [
        {
          "name": "stdout",
          "output_type": "stream",
          "text": [
            "/content/sDF_test5.parquet\n",
            "/content/drive/MyDrive/Colab Notebooks/Kaggle/sDF_test5.parquet\n",
            "+--------+---+-------+-------------+----+\n",
            "| session|pos|    aid|           ts|type|\n",
            "+--------+---+-------+-------------+----+\n",
            "|12899789|  1| 631398|1.661724204E9|   0|\n",
            "|12899791|  3|1365651| 1.66172411E9|   0|\n",
            "|12899793|  2|1792644|1.661724057E9|   0|\n",
            "|12899832|  8|1509329|1.661724668E9|   0|\n",
            "|12899842|  0|  46318|1.661724013E9|   0|\n",
            "|12899850| 98|1004556|1.661791542E9|   0|\n",
            "|12899852| 19| 701401|1.661730833E9|   0|\n",
            "|12899852|112|  90712|1.661811416E9|   0|\n",
            "|12899860|  4|1293588|1.661776478E9|   2|\n",
            "|12899906| 13| 938051|1.661724525E9|   1|\n",
            "|12899907| 20| 443295|1.661725332E9|   1|\n",
            "|12899919| 48|1637761|1.662297442E9|   0|\n",
            "|12899919| 52|1488793|1.662297631E9|   1|\n",
            "|12899946| 22|1490773|1.661724294E9|   0|\n",
            "|12899950| 31| 560261|1.661725337E9|   1|\n",
            "|12900014|  4|1722760|1.661724179E9|   0|\n",
            "|12900016|  5|1102414|1.661724139E9|   0|\n",
            "|12900016| 31| 244618|1.661768665E9|   0|\n",
            "|12900021| 10|1587914|1.661724221E9|   0|\n",
            "|12900026|  0|1705606|1.661724067E9|   0|\n",
            "+--------+---+-------+-------------+----+\n",
            "only showing top 20 rows\n",
            "\n",
            "CPU times: user 164 ms, sys: 19.3 ms, total: 183 ms\n",
            "Wall time: 53.1 s\n"
          ]
        }
      ],
      "source": [
        "%%time\n",
        "\n",
        "# local\n",
        "sDF_test5 = SaveReadParquet( sDF_test5, 'sDF_test5' )\n",
        "\n",
        "# cloud\n",
        "sDF_test5 = SaveReadParquet( sDF_test5\n",
        "                        , 'sDF_test5'\n",
        "                        , my_dir = '/content/drive/MyDrive/Colab Notebooks/Kaggle/'  )\n",
        "\n",
        "sDF_test5.count()\n",
        "sDF_test5.show()"
      ]
    },
    {
      "cell_type": "code",
      "execution_count": null,
      "metadata": {
        "colab": {
          "background_save": true
        },
        "id": "gp5UbVuap6Dc"
      },
      "outputs": [],
      "source": []
    },
    {
      "cell_type": "markdown",
      "metadata": {
        "id": "ZImoCAb7w8UB"
      },
      "source": [
        "# Load Data from Parquet"
      ]
    },
    {
      "cell_type": "code",
      "execution_count": null,
      "metadata": {
        "id": "xZviXVCCrsVo"
      },
      "outputs": [],
      "source": [
        "%%time\n",
        "\n",
        "sDF_train5 = spark.read.parquet( 'sDF_train5.parquet' )\n",
        "sDF_test5 = spark.read.parquet( 'sDF_test5.parquet' )\n",
        "\n",
        "sDF_train5.show()\n",
        "sDF_test5.show()"
      ]
    },
    {
      "cell_type": "markdown",
      "metadata": {
        "id": "i6scAdDRtCAe"
      },
      "source": [
        "# View Data"
      ]
    },
    {
      "cell_type": "code",
      "execution_count": null,
      "metadata": {
        "colab": {
          "base_uri": "https://localhost:8080/"
        },
        "id": "1e_1AQ_ftXOo",
        "outputId": "df8b63e2-c455-4567-a2b6-aec7163bc1cf"
      },
      "outputs": [
        {
          "name": "stdout",
          "output_type": "stream",
          "text": [
            "+---+-----------+-------------+\n",
            "|pos|session_cnt|session_share|\n",
            "+---+-----------+-------------+\n",
            "|  1|   12899779|        100.0|\n",
            "|  0|   12899779|        100.0|\n",
            "|  2|   10405594|         81.0|\n",
            "|  3|    8791396|         68.0|\n",
            "|  4|    7624389|         59.0|\n",
            "|  5|    6751602|         52.0|\n",
            "|  6|    6061859|         47.0|\n",
            "|  7|    5506372|         43.0|\n",
            "|  8|    5046120|         39.0|\n",
            "|  9|    4655041|         36.0|\n",
            "| 10|    4321310|         33.0|\n",
            "| 11|    4030948|         31.0|\n",
            "| 12|    3775810|         29.0|\n",
            "| 13|    3549973|         28.0|\n",
            "| 14|    3347229|         26.0|\n",
            "| 15|    3164777|         25.0|\n",
            "| 16|    3000164|         23.0|\n",
            "| 17|    2850652|         22.0|\n",
            "| 18|    2714134|         21.0|\n",
            "| 19|    2588977|         20.0|\n",
            "+---+-----------+-------------+\n",
            "only showing top 20 rows\n",
            "\n"
          ]
        }
      ],
      "source": [
        "# Train Data\n",
        "val_count = sDF_train4.agg(  F.countDistinct('session').alias('session_cnt') ).collect()[0][0]\n",
        "\n",
        "sDF_train4 \\\n",
        "    .groupBy('pos').agg(  F.countDistinct('session').alias('session_cnt') ) \\\n",
        "    .orderBy( F.col(\"session_cnt\").desc() ) \\\n",
        "    .withColumn( 'session_share', F.col('session_cnt') / F.lit(val_count) * F.lit(100) ) \\\n",
        "    .withColumn( 'session_share', F.round( F.col('session_share') ) ) \\\n",
        "    .show()"
      ]
    },
    {
      "cell_type": "code",
      "execution_count": null,
      "metadata": {
        "colab": {
          "base_uri": "https://localhost:8080/"
        },
        "id": "Q9wM9GtcqDXh",
        "outputId": "588f5413-d672-464c-9330-01c1bc5c237f"
      },
      "outputs": [
        {
          "name": "stdout",
          "output_type": "stream",
          "text": [
            "+---+-----------+-------------+\n",
            "|pos|session_cnt|session_share|\n",
            "+---+-----------+-------------+\n",
            "|  0|    1671803|        100.0|\n",
            "|  1|     921704|         55.0|\n",
            "|  2|     627261|         38.0|\n",
            "|  3|     466825|         28.0|\n",
            "|  4|     365488|         22.0|\n",
            "|  5|     296124|         18.0|\n",
            "|  6|     246182|         15.0|\n",
            "|  7|     208236|         12.0|\n",
            "|  8|     178631|         11.0|\n",
            "|  9|     155220|          9.0|\n",
            "| 10|     135808|          8.0|\n",
            "| 11|     120195|          7.0|\n",
            "| 12|     106772|          6.0|\n",
            "| 13|      95584|          6.0|\n",
            "| 14|      85956|          5.0|\n",
            "| 15|      77691|          5.0|\n",
            "| 16|      70553|          4.0|\n",
            "| 17|      64330|          4.0|\n",
            "| 18|      58737|          4.0|\n",
            "| 19|      53963|          3.0|\n",
            "+---+-----------+-------------+\n",
            "only showing top 20 rows\n",
            "\n"
          ]
        }
      ],
      "source": [
        "# Test Data\n",
        "val_count = sDF_test4.agg(  F.countDistinct('session').alias('session_cnt') ).collect()[0][0]\n",
        "\n",
        "sDF_test4 \\\n",
        "    .groupBy('pos').agg(  F.countDistinct('session').alias('session_cnt') ) \\\n",
        "    .orderBy( F.col(\"session_cnt\").desc() ) \\\n",
        "    .withColumn( 'session_share', F.col('session_cnt') / F.lit(val_count) * F.lit(100) ) \\\n",
        "    .withColumn( 'session_share', F.round( F.col('session_share') ) ) \\\n",
        "    .show()"
      ]
    },
    {
      "cell_type": "code",
      "execution_count": null,
      "metadata": {
        "colab": {
          "base_uri": "https://localhost:8080/"
        },
        "id": "lCNXnYoKwDU6",
        "outputId": "183ae81a-ea97-4df3-c6d8-1103d81be567"
      },
      "outputs": [
        {
          "data": {
            "text/plain": [
              "(216716096, 6928123, 0.03196865912534711)"
            ]
          },
          "execution_count": 7,
          "metadata": {},
          "output_type": "execute_result"
        }
      ],
      "source": [
        "shape_train = sDF_train5.count()\n",
        "shape_test = sDF_test5.count()\n",
        "\n",
        "( shape_train,\n",
        "   shape_test,\n",
        "   shape_test/shape_train )"
      ]
    },
    {
      "cell_type": "code",
      "execution_count": null,
      "metadata": {
        "colab": {
          "base_uri": "https://localhost:8080/"
        },
        "id": "XlPS9zyOx7Qr",
        "outputId": "56e9924c-24e8-479e-c813-d47977a17447"
      },
      "outputs": [
        {
          "data": {
            "text/plain": [
              "(12899779, 1671803, 0.12959935205091497)"
            ]
          },
          "execution_count": 8,
          "metadata": {},
          "output_type": "execute_result"
        }
      ],
      "source": [
        "session_train = sDF_train5.agg(  F.countDistinct('session').alias('session_cnt') ).collect()[0][0]\n",
        "session_test = sDF_test5.agg(  F.countDistinct('session').alias('session_cnt') ).collect()[0][0]\n",
        "\n",
        "( session_train,\n",
        "   session_test,\n",
        "   session_test/session_train )"
      ]
    },
    {
      "cell_type": "code",
      "execution_count": null,
      "metadata": {
        "id": "12bw8pcB1oqV"
      },
      "outputs": [],
      "source": []
    },
    {
      "cell_type": "code",
      "execution_count": null,
      "metadata": {
        "colab": {
          "base_uri": "https://localhost:8080/",
          "height": 479
        },
        "id": "bqMEolSo1VhN",
        "outputId": "99c2b6f5-85c4-4829-dc05-15cc5cfb7136"
      },
      "outputs": [
        {
          "name": "stdout",
          "output_type": "stream",
          "text": [
            "CPU times: user 2.33 s, sys: 289 ms, total: 2.62 s\n",
            "Wall time: 6min 12s\n"
          ]
        },
        {
          "data": {
            "text/plain": [
              "(array([2494185., 1614198., 1167007., 1562530.,  555487., 1185062.,\n",
              "         771337.,  835839.,  538469.,  553756.,  424028.,  334890.,\n",
              "         275956.,  197370.,  142351.,  101256.,   68330.,   43401.,\n",
              "          25445.,    8882.]),\n",
              " array([0.69314718, 0.96922023, 1.24529327, 1.52136632, 1.79743936,\n",
              "        2.07351241, 2.34958546, 2.6256585 , 2.90173155, 3.17780459,\n",
              "        3.45387764, 3.72995069, 4.00602373, 4.28209678, 4.55816982,\n",
              "        4.83424287, 5.11031591, 5.38638896, 5.66246201, 5.93853505,\n",
              "        6.2146081 ]),\n",
              " <a list of 20 Patch objects>)"
            ]
          },
          "execution_count": 21,
          "metadata": {},
          "output_type": "execute_result"
        },
        {
          "data": {
            "image/png": "[encoded data removed]",
            "text/plain": [
              "<Figure size 432x288 with 1 Axes>"
            ]
          },
          "metadata": {},
          "output_type": "display_data"
        }
      ],
      "source": [
        "%%time\n",
        "\n",
        "fig, ax = plt.subplots()\n",
        "hist( ax\n",
        "      , sDF_train5 \\\n",
        "          .groupBy('session').agg(  F.count('aid').alias('aid_cnt') ) \\\n",
        "          .withColumn( 'aid_cnt_log', F.log( F.col('aid_cnt') ) )\n",
        "          .select('aid_cnt_log')\n",
        "      , bins = 20\n",
        "      , color=['red'])"
      ]
    },
    {
      "cell_type": "code",
      "execution_count": null,
      "metadata": {
        "colab": {
          "base_uri": "https://localhost:8080/",
          "height": 479
        },
        "id": "ov46NldX2J-w",
        "outputId": "7f7ec44a-772e-4305-e0a5-222645ef9e9d"
      },
      "outputs": [
        {
          "name": "stdout",
          "output_type": "stream",
          "text": [
            "CPU times: user 346 ms, sys: 49.7 ms, total: 395 ms\n",
            "Wall time: 38.4 s\n"
          ]
        },
        {
          "data": {
            "text/plain": [
              "(array([7.50099e+05, 0.00000e+00, 2.94443e+05, 1.60436e+05, 1.01337e+05,\n",
              "        1.19306e+05, 6.75510e+04, 5.84360e+04, 4.25040e+04, 3.17850e+04,\n",
              "        1.99470e+04, 1.15880e+04, 6.95800e+03, 3.87800e+03, 1.98900e+03,\n",
              "        8.92000e+02, 4.21000e+02, 1.57000e+02, 5.40000e+01, 2.20000e+01]),\n",
              " array([0.        , 0.30634346, 0.61268692, 0.91903038, 1.22537384,\n",
              "        1.5317173 , 1.83806076, 2.14440421, 2.45074767, 2.75709113,\n",
              "        3.06343459, 3.36977805, 3.67612151, 3.98246497, 4.28880843,\n",
              "        4.59515189, 4.90149535, 5.20783881, 5.51418227, 5.82052572,\n",
              "        6.12686918]),\n",
              " <a list of 20 Patch objects>)"
            ]
          },
          "execution_count": 23,
          "metadata": {},
          "output_type": "execute_result"
        },
        {
          "data": {
            "image/png": "[encoded data removed]",
            "text/plain": [
              "<Figure size 432x288 with 1 Axes>"
            ]
          },
          "metadata": {},
          "output_type": "display_data"
        }
      ],
      "source": [
        "%%time\n",
        "\n",
        "fig, ax = plt.subplots()\n",
        "hist( ax\n",
        "      , sDF_test5 \\\n",
        "          .groupBy('session').agg(  F.count('aid').alias('aid_cnt') ) \\\n",
        "          .withColumn( 'aid_cnt_log', F.log( F.col('aid_cnt') ) )\n",
        "          .select('aid_cnt_log')\n",
        "      , bins = 20\n",
        "      , color=['blue'])"
      ]
    },
    {
      "cell_type": "code",
      "execution_count": null,
      "metadata": {
        "id": "7FAj_WW3vUFB"
      },
      "outputs": [],
      "source": []
    },
    {
      "cell_type": "code",
      "execution_count": null,
      "metadata": {
        "id": "0MM66IH_wDXm"
      },
      "outputs": [],
      "source": []
    },
    {
      "cell_type": "code",
      "execution_count": null,
      "metadata": {
        "id": "DCDuW1gSwDZ7"
      },
      "outputs": [],
      "source": []
    },
    {
      "cell_type": "code",
      "execution_count": null,
      "metadata": {
        "id": "1LEQAdTk0132"
      },
      "outputs": [],
      "source": [
        "sDF_train5.groupBy('session').agg(  F.count('aid').alias('aid_cnt') ).show()#.apply(np.log1p).hist()"
      ]
    },
    {
      "cell_type": "code",
      "execution_count": null,
      "metadata": {
        "id": "q4HgFN9wy7d_"
      },
      "outputs": [],
      "source": []
    },
    {
      "cell_type": "code",
      "execution_count": null,
      "metadata": {
        "id": "5Nyi-pu7vUHb"
      },
      "outputs": [],
      "source": []
    },
    {
      "cell_type": "code",
      "execution_count": null,
      "metadata": {
        "id": "h0J-6BkcqhET"
      },
      "outputs": [],
      "source": []
    }
  ],
  "metadata": {
    "colab": {
      "provenance": [],
      "collapsed_sections": [
        "i6scAdDRtCAe"
      ],
      "mount_file_id": "1ORR7bRfVTQ14QGy-FhmHAy9mg7xeOsMa",
      "authorship_tag": "ABX9TyMwWoxsDm42JbtFE3wega0H",
      "include_colab_link": true
    },
    "kernelspec": {
      "display_name": "Python 3",
      "name": "python3"
    },
    "language_info": {
      "name": "python"
    }
  },
  "nbformat": 4,
  "nbformat_minor": 0
}